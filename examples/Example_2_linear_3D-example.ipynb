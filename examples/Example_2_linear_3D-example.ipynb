{
 "cells": [
  {
   "cell_type": "markdown",
   "id": "5bd3c8a2-edef-4fb5-878d-90e89bdd8071",
   "metadata": {},
   "source": [
    "# Linear example"
   ]
  },
  {
   "cell_type": "markdown",
   "id": "7a3485b5-e386-49ee-ba17-26be1b83b731",
   "metadata": {},
   "source": [
    "Here we adapt the example discussed by Wu, Brunton, Rezven (Wu et al., R. Soc. Interface, 2018). They proposed a linear 3D system with non-normal eigenspaces observed via nonlinear observables to benchmark DMD's ability to recover the spectrum. They found that even weak non-normality and nonlinearity caused difficulties for DMD when applied to possibly noisy data. Here we repeat this analysis without noise to compare the results from DMD, EDMD and DDL models. \n",
    "\n",
    "\n",
    "To set up the system, define a block-diagonal matrix $\\Lambda$ and a basis transformation matrix $R$ of the form"
   ]
  },
  {
   "cell_type": "markdown",
   "id": "48dfa015-add5-490c-b957-a58a667bbedc",
   "metadata": {},
   "source": [
    "$$\n",
    "\\Lambda=\\left(\\begin{array}{ccc}\n",
    "a & -b & 0\\\\\n",
    "b & a & 0\\\\\n",
    "0 & 0 & c\n",
    "\\end{array}\\right),\\quad a,b,c\\in\\mathbb{R},\\qquad R=\\left(\\begin{array}{ccc}\n",
    "1 & 0 & \\sin\\theta_{1}\\cos\\theta_{2}\\\\\n",
    "0 & 1 & \\sin\\theta_{1}\\sin\\theta_{2}\\\\\n",
    "0 & 0 & \\cos\\theta_{2}\n",
    "\\end{array}\\right),\n",
    "$$\n",
    "to define the linear discrete dynamical system \n",
    "\n",
    "$$\n",
    "x(n+1)=\\left(R\\Lambda R^{-1}\\right)x(n).\n",
    "$$\n",
    "\n",
    "Thi system is then observed via a nonlinear observable $y(x)$ defined as \n",
    "\n",
    "$$\n",
    "y(x)=\\left(\\begin{array}{c}\n",
    "x_{1}+0.1\\left(x_{1}^{2}+x_{2}x_{3}\\right)\\\\\n",
    "x_{2}+0.1\\left(x_{2}^{2}+x_{1}x_{3}\\right)\\\\\n",
    "x_{3}+0.1\\left(x_{3}^{2}+x_{1}x_{2}\\right)\n",
    "\\end{array}\\right).\n",
    "$$\n",
    "\n",
    "In the following, we set \n",
    "\n",
    "$$\n",
    "a=0.45\\sqrt{3}, b=0.5, c=0.6, \\theta_{1}=1.56, \\text{ and } \\theta_{2}=0.\n",
    "$$"
   ]
  },
  {
   "cell_type": "code",
   "execution_count": 1,
   "id": "cebfb451-c2a7-4800-ac82-7df54552583b",
   "metadata": {},
   "outputs": [],
   "source": [
    "import numpy as np\n",
    "import matplotlib.pyplot as plt\n",
    "from scipy.integrate import solve_ivp"
   ]
  },
  {
   "cell_type": "code",
   "execution_count": 2,
   "id": "7a757f8e-9ed8-4de8-aaa5-5b20548c2a72",
   "metadata": {},
   "outputs": [],
   "source": [
    "alpha = 0.9 * np.sqrt(3)/2\n",
    "beta = 0.5\n",
    "lam = 0.6\n",
    "Lambda = np.array([[alpha, beta, 0 ], [-beta, alpha, 0], [0,0,lam]])"
   ]
  },
  {
   "cell_type": "code",
   "execution_count": 3,
   "id": "e5659cd7-f401-49a3-b28e-41db7028b7c6",
   "metadata": {},
   "outputs": [
    {
     "data": {
      "text/plain": [
       "array([[ 0.77942286,  0.5       ,  0.        ],\n",
       "       [-0.5       ,  0.77942286,  0.        ],\n",
       "       [ 0.        ,  0.        ,  0.6       ]])"
      ]
     },
     "execution_count": 3,
     "metadata": {},
     "output_type": "execute_result"
    }
   ],
   "source": [
    "Lambda"
   ]
  },
  {
   "cell_type": "code",
   "execution_count": 4,
   "id": "50ba01e8-66e8-4ae4-93e3-9e04b3c3fc23",
   "metadata": {},
   "outputs": [],
   "source": [
    "s = 1\n",
    "thet = 1.5\n",
    "ph = 0\n",
    "Q = np.array([[1, 0, np.sin(thet) * np.cos(ph)],\n",
    "              [0, 1, np.sin(thet) * np.sin(ph)],\n",
    "              [0, 0, np.cos(thet)]])\n",
    "S = np.array([[s, 0, 0], \n",
    "              [0, 1, 0],\n",
    "             [0, 0, 1]])\n"
   ]
  },
  {
   "cell_type": "code",
   "execution_count": 5,
   "id": "5567fac2-f2eb-4160-9bb6-89558ea660f2",
   "metadata": {},
   "outputs": [
    {
     "data": {
      "text/plain": [
       "array([[1.        , 0.        , 0.99749499],\n",
       "       [0.        , 1.        , 0.        ],\n",
       "       [0.        , 0.        , 0.0707372 ]])"
      ]
     },
     "execution_count": 5,
     "metadata": {},
     "output_type": "execute_result"
    }
   ],
   "source": [
    "Q"
   ]
  },
  {
   "cell_type": "markdown",
   "id": "3db59d86-5691-4dce-af3f-93268f3a33ba",
   "metadata": {},
   "source": [
    "Create the transformed linear system"
   ]
  },
  {
   "cell_type": "code",
   "execution_count": 6,
   "id": "fe15056c-4849-4edb-a9cd-c8867dd463ec",
   "metadata": {},
   "outputs": [],
   "source": [
    "A = np.linalg.multi_dot([Q, S, Lambda, np.linalg.inv(S), np.linalg.inv(Q)])"
   ]
  },
  {
   "cell_type": "code",
   "execution_count": 7,
   "id": "71afb545-f897-4f37-a6dc-32619bd202df",
   "metadata": {},
   "outputs": [
    {
     "data": {
      "text/plain": [
       "array([[ 0.77942286,  0.5       , -2.53011715],\n",
       "       [-0.5       ,  0.77942286,  7.05070997],\n",
       "       [ 0.        ,  0.        ,  0.6       ]])"
      ]
     },
     "execution_count": 7,
     "metadata": {},
     "output_type": "execute_result"
    }
   ],
   "source": [
    "A"
   ]
  },
  {
   "cell_type": "code",
   "execution_count": 8,
   "id": "63a74ae0-7540-41ab-9c0b-ee210972486a",
   "metadata": {},
   "outputs": [],
   "source": [
    "def nonlin_obs(x):\n",
    "    obs = np.array([x[0,:] + 0.1 * (x[0,:]**2+ x[1,:]*x[2,:]),\n",
    "                     x[1,:] + 0.1 * (x[1,:]**2 + x[0,:]*x[2,:]),\n",
    "                     x[2,:] + 0.1 * (x[2,:]**2 + x[0,:]*x[1,:])])\n",
    "    return obs"
   ]
  },
  {
   "cell_type": "code",
   "execution_count": 9,
   "id": "97bf858c-e138-45c8-9b4c-8d9feb8d951f",
   "metadata": {},
   "outputs": [],
   "source": [
    "np.random.seed(3)\n",
    "ics = (np.random.rand(4,3)-0.5) * 1"
   ]
  },
  {
   "cell_type": "code",
   "execution_count": 10,
   "id": "8be0ee8b-27ac-4986-b98b-4b3161d76e32",
   "metadata": {},
   "outputs": [
    {
     "data": {
      "text/plain": [
       "array([0.29937731, 0.55818703, 0.65350957, 0.47579746])"
      ]
     },
     "execution_count": 10,
     "metadata": {},
     "output_type": "execute_result"
    }
   ],
   "source": [
    "np.linalg.norm(ics,axis=1)"
   ]
  },
  {
   "cell_type": "code",
   "execution_count": 11,
   "id": "2896d125-0aa8-480b-8929-9336c7e3aee8",
   "metadata": {},
   "outputs": [],
   "source": [
    "def iterate(x0, A, n):\n",
    "    iterates = [x0]\n",
    "    for i in range(n):\n",
    "        iterates.append(A@iterates[-1])\n",
    "    return np.array(iterates).T"
   ]
  },
  {
   "cell_type": "code",
   "execution_count": 21,
   "id": "8c17c75a-b9a3-4798-aae1-a5f3a5519845",
   "metadata": {},
   "outputs": [],
   "source": [
    "np.random.seed(4)\n"
   ]
  },
  {
   "cell_type": "code",
   "execution_count": 22,
   "id": "ba4a1518-1859-41a7-9e26-640861c74c37",
   "metadata": {},
   "outputs": [],
   "source": [
    "trajectories_linear = [iterate(ics[i], A, 100) for i in range(len(ics))]\n",
    "trajectories_nonlinear = [nonlin_obs(trajectories_linear[i]) for i in range(len(ics))]"
   ]
  },
  {
   "cell_type": "code",
   "execution_count": 85,
   "id": "8ab42539-9778-4471-bbd0-6d0e61e3adf6",
   "metadata": {},
   "outputs": [],
   "source": [
    "train_nonlinear = [ t + (np.random.rand(*t.shape) - 0.5)*5e-2 for t in trajectories_nonlinear[:3]]\n",
    "test_nonlinear = trajectories_nonlinear[-1]\n"
   ]
  },
  {
   "cell_type": "code",
   "execution_count": 86,
   "id": "fd164841-ff70-456c-8975-32ba2a66311b",
   "metadata": {},
   "outputs": [
    {
     "data": {
      "text/plain": [
       "[<matplotlib.lines.Line2D at 0x7f8cfbdf5940>]"
      ]
     },
     "execution_count": 86,
     "metadata": {},
     "output_type": "execute_result"
    },
    {
     "data": {
      "image/png": "[encoded data removed]",
      "text/plain": [
       "<Figure size 432x288 with 1 Axes>"
      ]
     },
     "metadata": {
      "needs_background": "light"
     },
     "output_type": "display_data"
    }
   ],
   "source": [
    "plt.plot(trajectories_linear[1][0,:], trajectories_linear[1][1,:])\n",
    "plt.plot(trajectories_nonlinear[1][0,:], trajectories_nonlinear[1][1,:])"
   ]
  },
  {
   "cell_type": "code",
   "execution_count": 87,
   "id": "abab1c07-1718-42c5-ae2f-7275b9ebc14f",
   "metadata": {},
   "outputs": [
    {
     "data": {
      "text/plain": [
       "[<matplotlib.lines.Line2D at 0x7f8cdb85c880>]"
      ]
     },
     "execution_count": 87,
     "metadata": {},
     "output_type": "execute_result"
    },
    {
     "data": {
      "image/png": "[encoded data removed]",
      "text/plain": [
       "<Figure size 432x288 with 1 Axes>"
      ]
     },
     "metadata": {
      "needs_background": "light"
     },
     "output_type": "display_data"
    }
   ],
   "source": [
    "plt.plot(trajectories_linear[1][0,:], trajectories_linear[1][1,:])\n",
    "plt.plot(trajectories_nonlinear[1][0,:], trajectories_nonlinear[1][1,:])\n",
    "#plt.plot(trajectories_linear[1][0,:], trajectories_linear[1][1,:])\n",
    "plt.plot(train_nonlinear[1][0,:], train_nonlinear[1][1,:])"
   ]
  },
  {
   "cell_type": "code",
   "execution_count": 88,
   "id": "132f492c-810e-40c8-94f7-daf3137952e0",
   "metadata": {},
   "outputs": [
    {
     "name": "stdout",
     "output_type": "stream",
     "text": [
      "The autoreload extension is already loaded. To reload it, use:\n",
      "  %reload_ext autoreload\n"
     ]
    }
   ],
   "source": [
    "%load_ext autoreload\n",
    "%autoreload 2\n",
    "%aimport datadrivenlinearization"
   ]
  },
  {
   "cell_type": "code",
   "execution_count": 89,
   "id": "b608198e-b9bc-4a65-94d4-fd17645c77b4",
   "metadata": {},
   "outputs": [
    {
     "data": {
      "text/plain": [
       "array([[ 0.76576634,  0.43177282,  0.22923451],\n",
       "       [-0.45236505,  0.90725388, -0.02473499],\n",
       "       [-0.01951739,  0.02724741,  0.55249799]])"
      ]
     },
     "execution_count": 89,
     "metadata": {},
     "output_type": "execute_result"
    }
   ],
   "source": [
    "dmd.coef_"
   ]
  },
  {
   "cell_type": "code",
   "execution_count": 185,
   "id": "61ec1aee-e7df-4f75-8452-adc69e0cff5b",
   "metadata": {},
   "outputs": [
    {
     "name": "stdout",
     "output_type": "stream",
     "text": [
      "Initial cost:  48.100268814796415\n",
      "     message: `xtol` termination condition is satisfied.\n",
      "     success: True\n",
      "      status: 3\n",
      "         fun: [-1.905e-01 -1.711e-02 ... -1.859e-03 -9.831e-04]\n",
      "           x: [ 7.633e-01  5.187e-01 ... -7.012e+00  8.881e+00]\n",
      "        cost: 0.5114798339812202\n",
      "         jac: [[ 1.559e-01  2.098e-01 ... -0.000e+00  0.000e+00]\n",
      "               [ 4.802e-01 -7.719e-01 ... -0.000e+00  0.000e+00]\n",
      "               ...\n",
      "               [ 0.000e+00  0.000e+00 ... -1.921e-07  3.342e-07]\n",
      "               [ 0.000e+00  0.000e+00 ... -4.217e-08  9.569e-08]]\n",
      "        grad: [-1.157e-07  1.017e-07 ...  1.316e-08  8.558e-09]\n",
      "  optimality: 0.0030741250245283334\n",
      " active_mask: [ 0.000e+00  0.000e+00 ...  0.000e+00  0.000e+00]\n",
      "        nfev: 218\n",
      "        njev: 179\n",
      "Final cost:  1.0229596679624404\n"
     ]
    },
    {
     "data": {
      "text/plain": [
       "1.0229596679624404"
      ]
     },
     "execution_count": 185,
     "metadata": {},
     "output_type": "execute_result"
    }
   ],
   "source": [
    "dmd = datadrivenlinearization.DMD(train_nonlinear)\n",
    "order = 4\n",
    "edmd = datadrivenlinearization.EDMD(train_nonlinear,degree = order)\n",
    "\n",
    "d = datadrivenlinearization.DataDrivenLinearization(3, degree = order)\n",
    "d.fit_lsq_inv(train_nonlinear,\n",
    "              initial_matrix = dmd.coef_, initial_transformation='zero', method = 'trf',\n",
    "              alpha = 0)\n"
   ]
  },
  {
   "cell_type": "code",
   "execution_count": 186,
   "id": "d73426be-02d4-4ac9-b737-c6ff3595074f",
   "metadata": {},
   "outputs": [],
   "source": [
    "predicted = d.predict(test_nonlinear[:,0].reshape(-1,1), 100)\n"
   ]
  },
  {
   "cell_type": "code",
   "execution_count": 187,
   "id": "c0698633-0e70-4a77-95f4-07859bbaafb8",
   "metadata": {},
   "outputs": [],
   "source": [
    "invtrf = d.inverse_transform(predicted)"
   ]
  },
  {
   "cell_type": "code",
   "execution_count": 188,
   "id": "b278943c-7e37-490f-8290-6367f3427349",
   "metadata": {},
   "outputs": [],
   "source": [
    "from sklearn.preprocessing import PolynomialFeatures\n",
    "nonlinear_features = PolynomialFeatures(degree = order, include_bias=False).fit_transform(test_nonlinear.T).T\n",
    "\n",
    "Edmd_prediction = iterate(nonlinear_features[:,0], edmd.coef_, 100)\n",
    "dmd_prediction = iterate(test_nonlinear[:,0], dmd.coef_, 100)\n"
   ]
  },
  {
   "cell_type": "code",
   "execution_count": 189,
   "id": "455ebbed-39e1-40cc-aca6-05edfd9abf40",
   "metadata": {},
   "outputs": [],
   "source": [
    "import distinctipy \n",
    "colors2 = distinctipy.get_colors(10, n_attempts = 7000, rng = 1, colorblind_type='Tritanopia')\n",
    "#distinctipy.color_swatch(colors2)"
   ]
  },
  {
   "cell_type": "code",
   "execution_count": 190,
   "id": "2d96b26e-f5c9-4fba-a047-91f14e3575f2",
   "metadata": {},
   "outputs": [],
   "source": [
    "colors = distinctipy.get_colors(3, colorblind_type='Deuteranomaly',exclude_colors = [(1,1,1), (0,0,0)], rng = 6)\n",
    "#distinctipy.color_swatch(colors)\n",
    "#"
   ]
  },
  {
   "cell_type": "code",
   "execution_count": 191,
   "id": "c376ce63-d86c-42e9-b204-bcc3f6940ddf",
   "metadata": {},
   "outputs": [],
   "source": [
    "\n",
    "plt.rcParams['text.usetex'] = True\n",
    "plt.rcParams.update({'font.size': 16,\"font.family\": \"serif\",})"
   ]
  },
  {
   "cell_type": "code",
   "execution_count": 192,
   "id": "d3b9ef7e-007a-4e92-80f8-77bf583176b3",
   "metadata": {},
   "outputs": [
    {
     "data": {
      "image/png": "[encoded data removed]",
      "text/plain": [
       "<Figure size 720x288 with 2 Axes>"
      ]
     },
     "metadata": {
      "needs_background": "light"
     },
     "output_type": "display_data"
    }
   ],
   "source": [
    "fig = plt.figure(figsize = (10, 4))\n",
    "ax = fig.add_subplot(121)\n",
    "ax2 = fig.add_subplot(122)\n",
    "\n",
    "ax.plot(invtrf[0,:],'-', c='black', linewidth = 0.9,  label = 'True trajectory')\n",
    "ax.plot(dmd_prediction[0,:],'--', linewidth = 1.5, c= colors2[8], label = 'DMD prediction')\n",
    "ax.plot(Edmd_prediction[0,:],'--', linewidth = 1.5, c = colors[0], label = 'EDMD predition')\n",
    "ax.plot(test_nonlinear[0,:],'--', linewidth = 1.5, c = 'crimson', label = 'DDL prediction')\n",
    "\n",
    "ax.set_xlabel('Time')\n",
    "ax.set_ylabel('$y_1$')\n",
    "#plt.plot(trajectories_nonlinear[0][0,:])\n",
    "#ax.legend()\n",
    "real_eigs, _ = np.linalg.eig(A)\n",
    "dmd_eigs, _ = np.linalg.eig(dmd.coef_)\n",
    "edmd_eigs, _ = np.linalg.eig(edmd.coef_)\n",
    "ddl_eigs, _ = np.linalg.eig(d.linear_model)\n",
    "phii_ = np.linspace(0, 2*np.pi, 100)\n",
    "\n",
    "ax2.plot(np.real(dmd_eigs),np.imag(dmd_eigs),'.', markersize = 9, c= colors2[8])\n",
    "ax2.plot(np.real(edmd_eigs),np.imag(edmd_eigs),'.',  markersize = 9,c=colors[0])\n",
    "ax2.plot(np.real(ddl_eigs),np.imag(ddl_eigs),'.',  markersize = 9,c='crimson')\n",
    "ax2.plot(np.real(real_eigs),np.imag(real_eigs),'x', markersize = 9, c='black')\n",
    "ax2.plot(np.sin(phii_), np.cos(phii_), '--', c='grey')\n",
    "ax2.grid()\n",
    "ax2.axis('scaled')\n",
    "ax2.set_xlim(0.3, 1.)\n",
    "ax2.set_ylim(-0.6, 0.6)\n",
    "ax2.text(0.56, -0.1, 'True $\\lambda$', color = 'black')\n",
    "ax2.text(0.8, 0.32, 'DMD $\\lambda$', color = colors2[8])\n",
    "ax2.text(0.82, 0.02, 'EDMD $\\lambda$', color = colors[0])\n",
    "ax2.text(0.53, 0.05, 'DDL $\\lambda$', color = 'red')\n",
    "ax2.set_xlabel('Re $\\lambda$')\n",
    "ax2.set_ylabel('Im $\\lambda$')\n",
    "labels = ['(a)', '(b)']\n",
    "for a,l in zip([ax, ax2], labels):\n",
    "    a.text(0, 1.03, l, transform=a.transAxes)\n",
    "    \n",
    "fig.tight_layout()\n",
    "plt.savefig('Noise_4rd_ord.pdf', bbox_inches='tight' )"
   ]
  },
  {
   "cell_type": "markdown",
   "id": "0d1d7999-9938-4ce2-9ae2-b35c4be4873a",
   "metadata": {},
   "source": [
    "## fig = plt.figure(figsize = (10, 4))\n",
    "ax = fig.add_subplot(121)\n",
    "ax2 = fig.add_subplot(122)\n",
    "\n",
    "ax.plot(invtrf[0,:],'-', c='black', linewidth = 0.9,  label = 'True trajectory')\n",
    "ax.plot(dmd_prediction[0,:],'--', linewidth = 1.5, c= colors2[8], label = 'DMD prediction')\n",
    "ax.plot(Edmd_prediction[0,:],'--', linewidth = 1.5, c = colors[0], label = 'EDMD predition')\n",
    "ax.plot(test_nonlinear[0,:],'--', linewidth = 1.5, c = 'crimson', label = 'DDL prediction')\n",
    "\n",
    "ax.set_xlabel('Time')\n",
    "ax.set_ylabel('$y_1$')\n",
    "#plt.plot(trajectories_nonlinear[0][0,:])\n",
    "#ax.legend()\n",
    "real_eigs, _ = np.linalg.eig(A)\n",
    "dmd_eigs, _ = np.linalg.eig(dmd.coef_)\n",
    "edmd_eigs, _ = np.linalg.eig(edmd.coef_)\n",
    "ddl_eigs, _ = np.linalg.eig(d.linear_model)\n",
    "phii_ = np.linspace(0, 2*np.pi, 100)\n",
    "\n",
    "ax2.plot(np.real(dmd_eigs),np.imag(dmd_eigs),'.', markersize = 9, c= colors2[8])\n",
    "ax2.plot(np.real(edmd_eigs),np.imag(edmd_eigs),'.',  markersize = 9,c=colors[0])\n",
    "ax2.plot(np.real(ddl_eigs),np.imag(ddl_eigs),'.',  markersize = 9,c='crimson')\n",
    "ax2.plot(np.real(real_eigs),np.imag(real_eigs),'x', markersize = 9, c='black')\n",
    "ax2.plot(np.sin(phii_), np.cos(phii_), '--', c='grey')\n",
    "ax2.grid()\n",
    "ax2.axis('scaled')\n",
    "\n",
    "ax2.set_xlim(0.5, 1.)\n",
    "ax2.set_ylim(-0.6, 0.6)\n",
    "ax2.text(0.56, -0.1, 'True $\\lambda$', color = 'black')\n",
    "ax2.text(0.8, 0.32, 'DMD $\\lambda$', color = colors2[8])\n",
    "ax2.text(0.82, 0.02, 'EDMD $\\lambda$', color = colors[0])\n",
    "ax2.text(0.53, 0.05, 'DDL $\\lambda$', color = 'red')\n",
    "ax2.set_xlabel('Re $\\lambda$')\n",
    "ax2.set_ylabel('Im $\\lambda$')\n",
    "labels = ['(a)', '(b)']\n",
    "for a,l in zip([ax, ax2], labels):\n",
    "    a.text(0, 1.03, l, transform=a.transAxes)\n",
    "    \n",
    "fig.tight_layout()\n"
   ]
  },
  {
   "cell_type": "code",
   "execution_count": null,
   "id": "69a06313-4a3c-48ba-98b8-b13c708cbf46",
   "metadata": {},
   "outputs": [],
   "source": []
  }
 ],
 "metadata": {
  "kernelspec": {
   "display_name": "Python 3 (ipykernel)",
   "language": "python",
   "name": "python3"
  },
  "language_info": {
   "codemirror_mode": {
    "name": "ipython",
    "version": 3
   },
   "file_extension": ".py",
   "mimetype": "text/x-python",
   "name": "python",
   "nbconvert_exporter": "python",
   "pygments_lexer": "ipython3",
   "version": "3.9.7"
  }
 },
 "nbformat": 4,
 "nbformat_minor": 5
}
