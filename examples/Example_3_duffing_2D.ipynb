{
 "cells": [
  {
   "cell_type": "markdown",
   "id": "dfc6054f-62bf-4fa6-a974-c6d8acdd8488",
   "metadata": {},
   "source": [
    "# Damped and periodically forced Duffing equation \n",
    "\n",
    "\n",
    "We consider the damped Duffing equation\n",
    "$$\n",
    "\\dot{x}\t=y, \\dot{y}\t=x-x^{3}-dy,\n",
    "$$\n",
    "with damping coefficient d=0.0141, and perform a change of coordinates \n",
    "\n",
    "$$\\left(x,y\\right)\\mapsto\\varphi=\\left(\\varphi_{1},\\varphi_{2}\\right)$$\n",
    "that moves the stable focus at $(x,y)=(1,0)$ to the origin and makes the linear part block-diagonal. The resulting system is of the form\n",
    "\n",
    "$$\n",
    "\\dot{\\varphi}=A\\varphi+f\\left(\\varphi\\right),\\qquad f\\left(\\varphi\\right)=\\mathcal{O}\\left(\\left|\\varphi\\right|^{2}\\right),\n",
    "$$\n",
    "where\n",
    "$$\n",
    "A=\\begin{pmatrix}-\\alpha & -\\omega\\\\\n",
    "\\omega & -\\alpha\n",
    "\\end{pmatrix},\\qquad\\omega=1.4142,\\quad\\alpha=0.00707.\n",
    "$$"
   ]
  },
  {
   "cell_type": "markdown",
   "id": "d3736664-2d05-439a-bdcd-31f766074d5b",
   "metadata": {},
   "source": [
    "## Analytic linearization\n",
    "\n",
    "Here we will use the equations directly to construct the Taylor-series approximation of the linearization and its iverse. The computations are done symbolically with SymPy"
   ]
  },
  {
   "cell_type": "markdown",
   "id": "61d78918-cb10-46a9-9668-b7fbdfb437d4",
   "metadata": {},
   "source": [
    "We first perform the linear change of coordinates"
   ]
  },
  {
   "cell_type": "code",
   "execution_count": 140,
   "id": "27fb7f2d-4575-471c-9468-eb09d3bf4793",
   "metadata": {},
   "outputs": [],
   "source": [
    "import sympy as sy\n",
    "import numpy as np\n",
    "from scipy.integrate import solve_ivp\n",
    "x, y, delta = sy.symbols('x y \\delta', reals=True)\n",
    "f1 = y\n",
    "f2 = x - x**3 - delta*y\n",
    "f = sy.Matrix([f1, f2])\n",
    "f = f.subs(delta, 0.01*np.sqrt(2))\n",
    "fps = sy.solve(f, [x, y], dict = True) # compute the fixed points \n",
    "Df = f.jacobian([x,y]).subs(fps[0])\n",
    "\n",
    "vec = np.array(Df.eigenvects()[0][2][0], dtype=complex)\n",
    "T = sy.Matrix(np.hstack((np.real(vec), np.imag(vec))))"
   ]
  },
  {
   "cell_type": "code",
   "execution_count": 141,
   "id": "e243a075-4994-4995-b892-e3397607e04f",
   "metadata": {},
   "outputs": [
    {
     "data": {
      "text/latex": [
       "$\\displaystyle \\left[\\begin{matrix}-0.00707106781186548 & -1.41419588459308\\\\1.41419588459308 & -0.00707106781186548\\end{matrix}\\right]$"
      ],
      "text/plain": [
       "Matrix([\n",
       "[-0.00707106781186548,    -1.41419588459308],\n",
       "[    1.41419588459308, -0.00707106781186548]])"
      ]
     },
     "execution_count": 141,
     "metadata": {},
     "output_type": "execute_result"
    }
   ],
   "source": [
    "sy.simplify(T.inv()@Df@T)"
   ]
  },
  {
   "cell_type": "markdown",
   "id": "5fd60543-214f-4fb7-ba6a-dcda887fba20",
   "metadata": {},
   "source": [
    "The forcing vector in physical coordinates is \n",
    "$$\n",
    "\\begin{pmatrix} \n",
    "0 \\\\ 1\n",
    "\\end{pmatrix}\n",
    "$$\n",
    "Transformed to the diagonalized coordinates:"
   ]
  },
  {
   "cell_type": "code",
   "execution_count": 142,
   "id": "19eb0883-579c-4f70-b9af-5a6cc4b59627",
   "metadata": {},
   "outputs": [
    {
     "data": {
      "text/latex": [
       "$\\displaystyle \\left[\\begin{matrix}-0.00612380090494769\\\\1.22474487139159\\end{matrix}\\right]$"
      ],
      "text/plain": [
       "Matrix([\n",
       "[-0.00612380090494769],\n",
       "[    1.22474487139159]])"
      ]
     },
     "execution_count": 142,
     "metadata": {},
     "output_type": "execute_result"
    }
   ],
   "source": [
    "T.inv()@sy.Matrix([0,1])"
   ]
  },
  {
   "cell_type": "markdown",
   "id": "5f60c799-6bf6-4ba8-bca0-b5b1877f2eb3",
   "metadata": {},
   "source": [
    "Define the new coordinates $\\varphi$ as\n",
    "$$\n",
    "\\begin{pmatrix}x \\\\ y\\end{pmatrix} = T\\varphi - \\begin{pmatrix} -1 \\\\0 \\end{pmatrix}\n",
    "$$"
   ]
  },
  {
   "cell_type": "code",
   "execution_count": 143,
   "id": "5d81da26-bf17-4a40-9113-bd1d6634324a",
   "metadata": {},
   "outputs": [],
   "source": [
    "z1, z2 = sy.symbols('z_1 z_2')\n",
    "newcoords = sy.Matrix([z1, z2])\n",
    "oldcoords = T@newcoords - sy.Matrix([-1, 0])"
   ]
  },
  {
   "cell_type": "code",
   "execution_count": 144,
   "id": "f6de26ad-c9de-421f-905d-29d806f9e7fd",
   "metadata": {},
   "outputs": [],
   "source": [
    "new_f = T.inv()@f.subs([(x, oldcoords[0]), (y, oldcoords[1])])"
   ]
  },
  {
   "cell_type": "markdown",
   "id": "729ff483-e50e-4571-bcd5-c1d19efa251a",
   "metadata": {},
   "source": [
    "### Determine $\\kappa^{-1}$"
   ]
  },
  {
   "cell_type": "code",
   "execution_count": 145,
   "id": "b9accc1d-0ac9-4086-864c-8b83270bbf30",
   "metadata": {},
   "outputs": [],
   "source": [
    "\n",
    "# Define the symbols\n",
    "x, y, i, j = sy.symbols('x y i j')\n",
    "maxorder = 7\n",
    "\n",
    "# Define Indexed Bases\n",
    "a = sy.IndexedBase('a')\n",
    "b = sy.IndexedBase('b')\n",
    "\n",
    "# Translate the summations\n",
    "Y1 = sy.summation(a[i, j] * x**(i - 1) * y**(j - 1), (i, 1, maxorder + 1), (j, 1, maxorder + 1))\n",
    "Y2 = sy.summation(b[i, j] * x**(i - 1) * y**(j - 1), (i, 1, maxorder + 1), (j, 1, maxorder + 1))"
   ]
  },
  {
   "cell_type": "markdown",
   "id": "3005296d-f6e9-439c-b4a8-477f4e8c3207",
   "metadata": {},
   "source": [
    "For the linearizing transformation, we assume that \n",
    "\n",
    "$$\n",
    "\\gamma_1 = \\kappa^{-1}(\\varphi)_1 = \\sum_{i,j} a_{ij}\\varphi_1^i \\varphi_2^j\n",
    "$$\n",
    "\n",
    "and\n",
    "\n",
    "$$\n",
    "\\gamma_2 = \\kappa^{-1}(\\varphi)_2 =\\sum_{i,j} b_{ij}\\varphi_1^i \\varphi_2^j\n",
    "$$\n"
   ]
  },
  {
   "cell_type": "markdown",
   "id": "c52e8a00-414d-4d4e-8e7a-90eb6452e0ca",
   "metadata": {},
   "source": [
    "We then obtain the invariance equation by time-differentiation.\n",
    "\n",
    "We have\n",
    "$$\n",
    "\\frac{d}{dt}\\gamma_1 = \\frac{\\partial \\kappa^{-1}_1}{\\partial \\varphi_1} \\dot{\\varphi}_1 + \\frac{\\partial \\kappa^{-1}_1}{\\partial \\varphi_2} \\dot{\\varphi}_2\n",
    "$$\n",
    "and at the same time\n",
    "$$\n",
    "\\frac{d}{dt}\\gamma_1 = -\\alpha \\gamma_1 - \\omega \\gamma_2.\n",
    "$$\n",
    "\n",
    "Therefore, the transformation must satisfy \n",
    "\n",
    "$$\n",
    "-\\alpha \\kappa^{-1}(\\varphi)_1 - \\omega \\kappa^{-1}(\\varphi)_2 = \\frac{\\partial \\kappa^{-1}_1}{\\partial \\varphi_1} \\dot{\\varphi}_1 + \\frac{\\partial \\kappa^{-1}_1}{\\partial \\varphi_2} \\dot{\\varphi}_2\n",
    "$$\n",
    "\n",
    "We obtain the second component similarly.\n",
    "\n",
    "$$\n",
    "-\\alpha \\kappa^{-1}(\\varphi)_1 + \\omega \\kappa^{-1}(\\varphi)_2 = \\frac{\\partial \\kappa^{-1}_2}{\\partial \\varphi_1} \\dot{\\varphi}_1 + \\frac{\\partial \\kappa^{-1}_2}{\\partial \\varphi_2} \\dot{\\varphi}_2\n",
    "$$\n",
    "\n",
    "We will solve these equations order-by-order, for every order of $\\varphi$."
   ]
  },
  {
   "cell_type": "code",
   "execution_count": 146,
   "id": "63a4a11c-648f-49cf-9f61-b71d57a5a92f",
   "metadata": {},
   "outputs": [],
   "source": [
    "# Substitutions for Y1\n",
    "Y1_substituted = Y1.subs({a[1,1]: 0, \n",
    "                          a[2,1]: 1, \n",
    "                          a[1,2]: 0})\n",
    "\n",
    "# Substitutions for Y2\n",
    "Y2_substituted = Y2.subs({b[1,1]: 0, \n",
    "                          b[2,1]: 0, \n",
    "                          b[1,2]: 1})"
   ]
  },
  {
   "cell_type": "code",
   "execution_count": 147,
   "id": "b80c2627-210d-49e9-b051-374d203c6dce",
   "metadata": {},
   "outputs": [],
   "source": [
    "from sympy import degree_list\n",
    "\n",
    "def extract_up_to_n(expression, variables, Nmax):\n",
    "    # Break the expression into a list of monomials\n",
    "    monomials = expression.as_coefficients_dict()\n",
    "    \n",
    "    # Filter and sum the terms\n",
    "    return sum(coeff * monomial for monomial, coeff in monomials.items() \n",
    "               if sum(sy.degree_list(monomial, *variables)[:len(variables)]) <= Nmax)\n"
   ]
  },
  {
   "cell_type": "code",
   "execution_count": 148,
   "id": "6fbc0096-56ed-4c7c-b510-dd68c1887e42",
   "metadata": {},
   "outputs": [],
   "source": [
    "A = new_f.jacobian([z1,z2]).subs({z1: 0,\n",
    "                            z2: 0})"
   ]
  },
  {
   "cell_type": "code",
   "execution_count": 149,
   "id": "4cdc0a50-cd46-481c-b84e-8e7a8d05ce81",
   "metadata": {},
   "outputs": [],
   "source": [
    "Y1 =  extract_up_to_n(sy.expand(Y1_substituted), [x,y], maxorder)\n",
    "Y2 =  extract_up_to_n(sy.expand(Y2_substituted), [x,y], maxorder)"
   ]
  },
  {
   "cell_type": "code",
   "execution_count": 150,
   "id": "a5f3c040-53a1-4a84-9eb8-142f035280a9",
   "metadata": {},
   "outputs": [],
   "source": [
    "udot = A[0,0] * Y1 + A[0,1] * Y2 # the linearized dynamics is enforced\n",
    "vdot =  A[1,0] * Y1 + A[1,1] * Y2"
   ]
  },
  {
   "cell_type": "code",
   "execution_count": 151,
   "id": "f8e7a7a1-640a-4167-a87d-2cd4198d2815",
   "metadata": {},
   "outputs": [],
   "source": [
    "ff = new_f.subs([(z1, x), (z2, y)])"
   ]
  },
  {
   "cell_type": "code",
   "execution_count": 152,
   "id": "c839f9b2-f0b0-45b9-bbc6-b05fcddace8a",
   "metadata": {},
   "outputs": [],
   "source": [
    "L1 = Y1.diff(x)*ff[0] + Y1.diff(y)*ff[1]\n",
    "L2 = Y2.diff(x)*ff[0] + Y2.diff(y)*ff[1]\n",
    "\n",
    "R = [udot, vdot]"
   ]
  },
  {
   "cell_type": "markdown",
   "id": "2c280e2e-8569-4264-bd60-7896f4b27577",
   "metadata": {},
   "source": [
    "Create the invariance equations"
   ]
  },
  {
   "cell_type": "code",
   "execution_count": 153,
   "id": "afefe94c-b8b9-4c6c-8e70-8e6a390bd03f",
   "metadata": {},
   "outputs": [],
   "source": [
    "eq1 = extract_up_to_n(sy.expand(R[0] - L1), [x,y], maxorder)\n",
    "eq2 = extract_up_to_n(sy.expand(R[1] - L2), [x,y], maxorder)"
   ]
  },
  {
   "cell_type": "code",
   "execution_count": 154,
   "id": "7446a552-e1c9-4570-982d-4cdee197dad8",
   "metadata": {},
   "outputs": [],
   "source": [
    "def coefficient_list(expression, variables):\n",
    "    poly = sy.Poly(expression, *variables)\n",
    "    degrees = [poly.degree(var) for var in variables]\n",
    "    coeffs = {}\n",
    "    for i in range(degrees[0] + 1):\n",
    "        for j in range(degrees[1] + 1):\n",
    "            coeffs[(i, j)] = poly.coeff_monomial(variables[0]**i * variables[1]**j)\n",
    "    return coeffs"
   ]
  },
  {
   "cell_type": "code",
   "execution_count": 155,
   "id": "5c096cf0-1d2e-4412-81c3-016c5b1e0afc",
   "metadata": {},
   "outputs": [],
   "source": [
    "coeff1 = coefficient_list(eq1, [x,y])\n",
    "coeff2 = coefficient_list(eq2, [x,y])"
   ]
  },
  {
   "cell_type": "code",
   "execution_count": 156,
   "id": "45bb4d51-cb98-4e09-8a8b-4c26da4383f2",
   "metadata": {},
   "outputs": [],
   "source": [
    "# Function to extract variables from a dictionary of coefficients\n",
    "def extract_variables(coeff_dict):\n",
    "    return set().union(*[coeff.free_symbols for coeff in coeff_dict.values()])\n",
    "\n",
    "# Extract variables from coeff1 and coeff2\n",
    "variables1 = extract_variables(coeff1)\n",
    "variables2 = extract_variables(coeff2)\n",
    "\n",
    "# Extract variables from RHS\n",
    "rhs_variables = set(ff.free_symbols)\n",
    "\n",
    "\n",
    "# Calculate Coefficients1 and Coefficients2\n",
    "Coefficients1 = variables1 - set(set((x, y)).union(rhs_variables)).union({a,b})\n",
    "Coefficients2 = variables2 - ({x, y}.union(rhs_variables)).union({a,b})\n",
    "\n",
    "# Combine the unique variables\n",
    "cc = Coefficients1.union(Coefficients2)"
   ]
  },
  {
   "cell_type": "code",
   "execution_count": 157,
   "id": "ce1f7f25-a9ea-4f00-af33-c2fd56704f6c",
   "metadata": {},
   "outputs": [],
   "source": [
    "\n",
    "Equations = []\n",
    "\n",
    "for item in list(coeff1.items()):\n",
    "    Equations.append(item[1])\n",
    "for item in list(coeff2.items()):\n",
    "    Equations.append(item[1])\n",
    "\n",
    "# Equations is now a list of equations"
   ]
  },
  {
   "cell_type": "code",
   "execution_count": 158,
   "id": "fb5c46e5-597f-4f2e-bc3d-20e76d25ed3e",
   "metadata": {},
   "outputs": [],
   "source": [
    "symbols = []\n",
    "for i in range(1,maxorder+1):\n",
    "    for j in range(1,maxorder+1):\n",
    "\n",
    "        if i + j < maxorder+1:\n",
    "            symbols.append(a[i,j])\n",
    "            symbols.append(b[i,j])"
   ]
  },
  {
   "cell_type": "code",
   "execution_count": 159,
   "id": "7dda2312-647a-45bc-8128-dd2f355232f8",
   "metadata": {},
   "outputs": [],
   "source": [
    "sol = sy.solve(Equations)\n",
    "Y1_subbed = Y1.subs(sol)\n",
    "Y2_subbed = Y2.subs(sol)\n"
   ]
  },
  {
   "cell_type": "code",
   "execution_count": 160,
   "id": "36d3c2e4-8889-4ab8-9f77-fa4d4eb773f4",
   "metadata": {},
   "outputs": [],
   "source": [
    "transformations = {}\n",
    "transformations['gamma_1_phi1_phi2'] = Y1_subbed\n",
    "transformations['gamma_2_phi1_phi2'] = Y2_subbed\n"
   ]
  },
  {
   "cell_type": "markdown",
   "id": "956fc8de-08c7-490d-94e8-572fcad83f40",
   "metadata": {},
   "source": [
    "We save now the analytically computed linearizing transformation with order 9 to save time for later computations. "
   ]
  },
  {
   "cell_type": "code",
   "execution_count": 161,
   "id": "15e8291d-10ec-436d-a640-cb77b84382af",
   "metadata": {},
   "outputs": [],
   "source": [
    "from joblib import dump"
   ]
  },
  {
   "cell_type": "code",
   "execution_count": 35,
   "id": "365976af-2f12-4d0d-8f76-ba5447acb747",
   "metadata": {},
   "outputs": [
    {
     "data": {
      "text/plain": [
       "['saved_models/duffing_kappainv_order9.symbolic']"
      ]
     },
     "execution_count": 35,
     "metadata": {},
     "output_type": "execute_result"
    }
   ],
   "source": [
    "dump(transformations, 'saved_models/duffing_kappainv_order9.symbolic')"
   ]
  },
  {
   "cell_type": "code",
   "execution_count": 36,
   "id": "d64457de-13d9-4e07-ae09-b7d2bb499b72",
   "metadata": {},
   "outputs": [],
   "source": [
    "#transformations = load('saved_models_duffing_kappainv_order9.symbolic')"
   ]
  },
  {
   "cell_type": "code",
   "execution_count": 162,
   "id": "bf194d83-63bc-4867-b11b-992c98dd0864",
   "metadata": {},
   "outputs": [],
   "source": [
    "Y1_np = sy.lambdify([x,y], transformations['gamma_1_phi1_phi2'])\n",
    "Y2_np = sy.lambdify([x,y], transformations['gamma_2_phi1_phi2'])\n",
    "transformations['gamma_1_phi1_phi2_numpy'] = Y1_np\n",
    "transformations['gamma_2_phi1_phi2_numpy'] = Y2_np"
   ]
  },
  {
   "cell_type": "markdown",
   "id": "d1c54d79-9343-4b0c-81ad-1f3aa3f40e9d",
   "metadata": {},
   "source": [
    "### Determine $\\kappa$"
   ]
  },
  {
   "cell_type": "markdown",
   "id": "2ca9ef04-68c1-4746-8dae-54e50a4dc885",
   "metadata": {},
   "source": [
    "Now we seek \n",
    "\n",
    "$$\n",
    "\\varphi_1 = \\kappa(\\gamma)_1 = \\sum_{i,j} \\hat{a}_{ij}\\gamma_1^i \\gamma_2^j\n",
    "$$\n",
    "\n",
    "and\n",
    "\n",
    "$$\n",
    "\\varphi_2 = \\kappa(\\gamma)_2 =\\sum_{i,j} \\hat{b}_{ij}\\gamma_1^i \\gamma_2^j\n",
    "$$\n",
    "\n"
   ]
  },
  {
   "cell_type": "markdown",
   "id": "472c2b0b-f0c9-4d64-ab23-cf8085a5ea2e",
   "metadata": {},
   "source": [
    "The invariance equations can be obtained similarly as before\n",
    "\n",
    "This transformation must satisfy \n",
    "\n",
    "$$\n",
    "\\dot{\\varphi}_1 = \\frac{\\partial \\kappa_1}{\\partial \\gamma_1} \\left(-\\alpha \\gamma_1 - \\omega \\gamma_2 \\right) + \\frac{\\partial \\kappa_1}{\\partial \\gamma_2} \\left(-\\alpha \\gamma_1 + \\omega \\gamma_2 \\right)\n",
    "$$\n",
    "and\n",
    "$$\n",
    "\\dot{\\varphi}_2 = \\frac{\\partial \\kappa_2}{\\partial \\gamma_1} \\left(-\\alpha \\gamma_1 - \\omega \\gamma_2 \\right) + \\frac{\\partial \\kappa_2}{\\partial \\gamma_2} \\left(-\\alpha \\gamma_1 + \\omega \\gamma_2 \\right),\n",
    "$$\n",
    "\n",
    "where now $\\dot{\\varphi}$ is the right-hand side of the original, nonlinear ODE.\n",
    "\n"
   ]
  },
  {
   "cell_type": "code",
   "execution_count": 164,
   "id": "2b8eacc7-eeaa-4f13-9cdb-e1cc382d3ac9",
   "metadata": {},
   "outputs": [],
   "source": [
    "\n",
    "\n",
    "u, v, i, j = sy.symbols('u v i j')\n",
    "maxorder = 7\n",
    "# redefine the coefficients\n",
    "a = sy.IndexedBase('a')\n",
    "b = sy.IndexedBase('b')\n",
    "\n",
    "Y1 = sy.summation(a[i, j] * u**(i - 1) * v**(j - 1), (i, 1, maxorder + 1), (j, 1, maxorder + 1))\n",
    "Y2 = sy.summation(b[i, j] * u**(i - 1) * v**(j - 1), (i, 1, maxorder + 1), (j, 1, maxorder + 1))"
   ]
  },
  {
   "cell_type": "code",
   "execution_count": 165,
   "id": "fdac8070-b003-4ea2-bf01-4cf69afbb02d",
   "metadata": {},
   "outputs": [],
   "source": [
    "# Substitutions for Y1\n",
    "Y1_substituted = Y1.subs({a[1,1]: 0, \n",
    "                          a[2,1]: 1, \n",
    "                          a[1,2]: 0})\n",
    "\n",
    "# Substitutions for Y2\n",
    "Y2_substituted = Y2.subs({b[1,1]: 0, \n",
    "                          b[2,1]: 0, \n",
    "                          b[1,2]: 1})"
   ]
  },
  {
   "cell_type": "code",
   "execution_count": 166,
   "id": "c3864279-c6b0-4f92-919a-7eeb0369d853",
   "metadata": {},
   "outputs": [],
   "source": [
    "Y1 =  extract_up_to_n(sy.expand(Y1_substituted), [u,v], maxorder)\n",
    "Y2 =  extract_up_to_n(sy.expand(Y2_substituted), [u,v], maxorder)"
   ]
  },
  {
   "cell_type": "code",
   "execution_count": 167,
   "id": "60a408db-980c-4e11-b542-88e525ae2ad1",
   "metadata": {},
   "outputs": [],
   "source": [
    "udot = A[0,0] * u + A[0,1]*v\n",
    "vdot = A[1,0] * u + A[1,1] * v"
   ]
  },
  {
   "cell_type": "code",
   "execution_count": 168,
   "id": "568620be-fe08-4768-b46c-a58997817acd",
   "metadata": {},
   "outputs": [],
   "source": [
    "L1 = Y1.diff(u)*udot + Y1.diff(v)*vdot\n",
    "L2 = Y2.diff(u)*udot + Y2.diff(v)*vdot\n",
    "R = sy.expand(ff.subs({x: Y1, \n",
    "    y : Y2}))"
   ]
  },
  {
   "cell_type": "code",
   "execution_count": 169,
   "id": "edcb18c7-7102-4641-bf08-30503f760a41",
   "metadata": {},
   "outputs": [],
   "source": [
    "eq1 = extract_up_to_n(sy.expand(R[0] - L1), [u,v], maxorder)\n",
    "eq2 = extract_up_to_n(sy.expand(R[1] - L2), [u,v], maxorder)"
   ]
  },
  {
   "cell_type": "code",
   "execution_count": 170,
   "id": "85b589ed-5ae4-454f-ae82-ca0997d9f9c2",
   "metadata": {},
   "outputs": [],
   "source": [
    "coeff1 = coefficient_list(eq1, [u,v])\n",
    "coeff2 = coefficient_list(eq2, [u,v])"
   ]
  },
  {
   "cell_type": "code",
   "execution_count": 171,
   "id": "3b9a93e5-71a4-42d7-bdc5-61acc875db54",
   "metadata": {},
   "outputs": [],
   "source": [
    "\n",
    "# Extract variables from coeff1 and coeff2\n",
    "variables1 = extract_variables(coeff1)\n",
    "variables2 = extract_variables(coeff2)\n",
    "\n",
    "# Extract variables from RHS\n",
    "rhs_variables = set(ff.free_symbols)\n",
    "\n",
    "\n",
    "# Calculate Coefficients1 and Coefficients2\n",
    "Coefficients1 = variables1 - set(set((u, v)).union(rhs_variables)).union({a,b})\n",
    "Coefficients2 = variables2 - ({u, v}.union(rhs_variables)).union({a,b})\n",
    "\n",
    "# Combine the unique variables\n",
    "cc = Coefficients1.union(Coefficients2)"
   ]
  },
  {
   "cell_type": "code",
   "execution_count": 172,
   "id": "9c228bf4-3dbb-42a2-b347-f45fcd9d5d5d",
   "metadata": {},
   "outputs": [],
   "source": [
    "Equations = []\n",
    "\n",
    "for item in list(coeff1.items()):\n",
    "    Equations.append(item[1])\n",
    "for item in list(coeff2.items()):\n",
    "    Equations.append(item[1])"
   ]
  },
  {
   "cell_type": "code",
   "execution_count": 173,
   "id": "029ce803-8c20-4d44-b156-249dc61de43d",
   "metadata": {},
   "outputs": [],
   "source": [
    "symbols = []\n",
    "for i in range(1,maxorder+1):\n",
    "    for j in range(1,maxorder+1):\n",
    "\n",
    "        if i + j < maxorder+1:\n",
    "            symbols.append(a[i,j])\n",
    "            symbols.append(b[i,j])"
   ]
  },
  {
   "cell_type": "code",
   "execution_count": 174,
   "id": "97d64554-4c3a-4806-8c4c-9501b6eb2bdd",
   "metadata": {},
   "outputs": [],
   "source": [
    "sol = sy.solve(Equations)"
   ]
  },
  {
   "cell_type": "code",
   "execution_count": 175,
   "id": "895e31c3-3067-4704-b5d9-419132ecabfa",
   "metadata": {},
   "outputs": [],
   "source": [
    "Y1_subbed = Y1.subs(sol[0])\n",
    "Y2_subbed = Y2.subs(sol[0])\n"
   ]
  },
  {
   "cell_type": "code",
   "execution_count": 176,
   "id": "33b2dc5f-0daa-4abe-a856-4a60b2079252",
   "metadata": {},
   "outputs": [],
   "source": [
    "Y1_np = sy.lambdify([u,v], Y1_subbed)\n",
    "Y2_np = sy.lambdify([u,v], Y2_subbed)\n"
   ]
  },
  {
   "cell_type": "code",
   "execution_count": 177,
   "id": "c203d519-c372-418c-979d-4264ec71cad8",
   "metadata": {},
   "outputs": [],
   "source": [
    "transformations_kappa = {}\n",
    "transformations_kappa['phi1_1_gamma1_gamma2'] = Y1_subbed\n",
    "transformations_kappa['phi2_2_gamma1_gamma2'] = Y2_subbed\n",
    "\n"
   ]
  },
  {
   "cell_type": "code",
   "execution_count": 54,
   "id": "97ee4624-c848-494b-912e-723995f9194c",
   "metadata": {},
   "outputs": [
    {
     "data": {
      "text/plain": [
       "['saved_models/duffing_kappa_order9.symbolic']"
      ]
     },
     "execution_count": 54,
     "metadata": {},
     "output_type": "execute_result"
    }
   ],
   "source": [
    "dump(transformations_kappa, 'saved_models/duffing_kappa_order9.symbolic')"
   ]
  },
  {
   "cell_type": "code",
   "execution_count": 31,
   "id": "e2b586b4-6c4c-4b06-afb4-3405460eaa3e",
   "metadata": {},
   "outputs": [],
   "source": [
    "#transformations_kappa = load('saved_models_duffing_kappa_order9.symbolic')"
   ]
  },
  {
   "cell_type": "code",
   "execution_count": 178,
   "id": "a47ffd8c-323e-43f9-b859-2d1c6f4f2d06",
   "metadata": {},
   "outputs": [],
   "source": [
    "Y1_np = sy.lambdify([u,v], transformations_kappa['phi1_1_gamma1_gamma2'])\n",
    "Y2_np = sy.lambdify([u,v], transformations_kappa['phi2_2_gamma1_gamma2'])\n",
    "\n",
    "# add them to the transformations dictionary\n",
    "transformations['phi_1_gamma1_gamma2_numpy'] = Y1_np\n",
    "transformations['phi_2_gamma1_gamma2_numpy'] = Y2_np"
   ]
  },
  {
   "cell_type": "markdown",
   "id": "81e5be65-da05-4ab4-a29d-730c481d0e95",
   "metadata": {},
   "source": [
    "### Estimating the radius of convergence "
   ]
  },
  {
   "cell_type": "markdown",
   "id": "959fffaa-29ce-4128-a35b-0ee9105fc59e",
   "metadata": {},
   "source": [
    "For simplicity, instead of computing the radius of converggence from the coefficients of the Taylor-series, we estimate it using the point, at which a high-order approximation for the linearizing transformation breaks down. Since for the transformation $\\kappa(\\varphi)$, it has to hold that\n",
    "\n",
    "$$\n",
    "\\kappa^{-1}\\left(\\kappa(\\varphi)\\right) = \\varphi,\n",
    "$$\n",
    "\n",
    "we get a good approximation for the range of validity of the linearization by evaluating $\\kappa^{-1}\\left(\\kappa(\\varphi)\\right)$. \n",
    "\n",
    "For example, along the diagonal $\\varphi_1 = \\varphi_2$ we obtain the following"
   ]
  },
  {
   "cell_type": "code",
   "execution_count": 179,
   "id": "fc04df27-f307-43a9-baa2-de12be342f29",
   "metadata": {},
   "outputs": [],
   "source": [
    "import matplotlib.pyplot as plt"
   ]
  },
  {
   "cell_type": "code",
   "execution_count": 181,
   "id": "e353071b-f20a-4474-8a2c-f045a2c576a3",
   "metadata": {},
   "outputs": [
    {
     "data": {
      "text/plain": [
       "(-0.2, 0.2)"
      ]
     },
     "execution_count": 181,
     "metadata": {},
     "output_type": "execute_result"
    },
    {
     "data": {
      "image/png": "[encoded data removed]",
      "text/plain": [
       "<Figure size 432x288 with 1 Axes>"
      ]
     },
     "metadata": {
      "needs_background": "light"
     },
     "output_type": "display_data"
    }
   ],
   "source": [
    "xx = np.linspace(-0.18, 0.18, 1000)\n",
    "\n",
    "yy = np.squeeze(transformations['phi_1_gamma1_gamma2_numpy'](transformations['gamma_1_phi1_phi2_numpy'](xx, xx),\n",
    "                                                            transformations['gamma_2_phi1_phi2_numpy'](xx, xx)))\n",
    "plt.plot(xx, xx, '-', c= 'black', label = 'Identity')\n",
    "plt.plot(xx, yy, '--', c='crimson')\n",
    "plt.legend()\n",
    "plt.grid()\n",
    "plt.plot([-0.15, -0.15],[-0.2, 0.2], '--', c='black')\n",
    "plt.plot([0.15, 0.15],[-0.2, 0.2], '--', c='black')\n",
    "\n",
    "plt.xlabel(u'$\\\\varphi_1$')\n",
    "plt.ylabel(u'$\\\\kappa^{-1} \\\\circ \\\\kappa$')\n",
    "plt.xlim(-0.2, 0.2)\n",
    "plt.ylim(-0.2, 0.2)\n"
   ]
  },
  {
   "cell_type": "markdown",
   "id": "9b187826-95a9-4ec3-9061-b86341bc26ca",
   "metadata": {},
   "source": [
    "Therefore, we expect the dynamics to be analytically linearizable for \n",
    "\n",
    "$$\n",
    "|\\varphi|< R_{crit} \\approx 0.15\n",
    "$$"
   ]
  },
  {
   "cell_type": "markdown",
   "id": "190b26e0-849b-4868-bb16-feae752e6ebc",
   "metadata": {},
   "source": [
    "A more detailed analysis over a grid yields: "
   ]
  },
  {
   "cell_type": "code",
   "execution_count": 182,
   "id": "a982f75c-ec44-4482-be92-8da63221c35a",
   "metadata": {},
   "outputs": [],
   "source": [
    "xx = np.linspace(-0.3, 0.3, 200)\n",
    "\n",
    "XX, YY = np.meshgrid(xx, xx)\n",
    "phi1__XX = np.squeeze(transformations['phi_1_gamma1_gamma2_numpy'](transformations['gamma_1_phi1_phi2_numpy'](XX, YY),\n",
    "                                                            transformations['gamma_2_phi1_phi2_numpy'](XX, YY)))"
   ]
  },
  {
   "cell_type": "code",
   "execution_count": 183,
   "id": "79c2f9ce-4ccc-4ca9-a86a-35f5af25fc7a",
   "metadata": {},
   "outputs": [
    {
     "data": {
      "image/png": "[encoded data removed]",
      "text/plain": [
       "<Figure size 720x288 with 3 Axes>"
      ]
     },
     "metadata": {
      "needs_background": "light"
     },
     "output_type": "display_data"
    }
   ],
   "source": [
    "fig = plt.figure(figsize = (10, 4))\n",
    "ax = fig.add_subplot(121)\n",
    "ax2 = fig.add_subplot(122)\n",
    "\n",
    "cc = ax.contourf(XX, YY, np.log(np.abs(XX - phi1__XX)), 30)\n",
    "ax.set_title(r'Error: $|\\kappa^{-1}\\left(\\kappa(\\varphi)\\right) - \\varphi|$')\n",
    "plt.colorbar(cc)\n",
    "cc = ax2.contourf(XX, YY, np.abs(XX - phi1__XX) > 0.001, 30)\n",
    "\n",
    "ax2.set_title('Error $>$ 0.001')\n",
    "ax2.set_xlim(-0.3, 0.3)\n",
    "ax2.set_ylim(-0.3, 0.3)\n",
    "\n",
    "plt.axis('equal')\n",
    "\n",
    "plt.tight_layout()"
   ]
  },
  {
   "cell_type": "markdown",
   "id": "a9450242-9431-4ef7-a0bc-fa4993b86bfd",
   "metadata": {},
   "source": [
    "### Comparison with DDL and DMD, EDMD"
   ]
  },
  {
   "cell_type": "code",
   "execution_count": 222,
   "id": "96c1920e-68e0-4e21-83a2-cdb98e19d9a6",
   "metadata": {},
   "outputs": [],
   "source": [
    "import numpy as np\n"
   ]
  },
  {
   "cell_type": "code",
   "execution_count": 223,
   "id": "eb298b45-a924-44d3-abcc-40c601fc7dec",
   "metadata": {},
   "outputs": [],
   "source": [
    "# import distinctipy # can be commented out if distinctipy is not installed\n",
    "# colors2 = distinctipy.get_colors(10, n_attempts = 7000, rng = 1, colorblind_type='Tritanopia')\n",
    "# distinctipy.color_swatch(colors2)"
   ]
  },
  {
   "cell_type": "code",
   "execution_count": 224,
   "id": "d379fc07-96ba-46ca-a996-f6c0ff58ebcb",
   "metadata": {},
   "outputs": [],
   "source": [
    "colors2 = [(0.03678484251536762, 0.6179966849702221, 0.9739358488787938),\n",
    " (0.9973991938671649, 0.271843841793703, 0.3312661650034482),\n",
    " (0.46923921134665403, 0.05321353602065504, 0.7589105321169408),\n",
    " (0.6518372201847867, 0.02303925652524519, 0.11509491725842236),\n",
    "(0.2801795133081738, 0.5636756117295652, 0.2994640928542739)]"
   ]
  },
  {
   "cell_type": "code",
   "execution_count": 225,
   "id": "aa51c6e5-b4d2-45b7-8350-b767e623aaab",
   "metadata": {},
   "outputs": [],
   "source": [
    "ff_numpy = sy.lambdify([x, y], ff)"
   ]
  },
  {
   "cell_type": "code",
   "execution_count": 226,
   "id": "d877d086-da63-4dae-a9ce-54713abfc1b6",
   "metadata": {},
   "outputs": [],
   "source": [
    "class Duffing_nonlinear:\n",
    "    def __init__(self, eps, Omega):\n",
    "        self.eps = eps\n",
    "        self.Omega = Omega\n",
    "        self.dimension = 2\n",
    "\n",
    "    def dynamics(self, x0, t):\n",
    "\n",
    "        \"\"\"ODE system\n",
    "        This function will be passed to the numerical integrator\n",
    "        Inputs:\n",
    "            x0: initial values\n",
    "            t: time\n",
    "        Outputs:\n",
    "            x_dot: velocity vector\n",
    "        \"\"\"\n",
    "        x1,x2 = x0\n",
    "        vel_array = np.squeeze(ff_numpy(x1, x2)) + self.eps/np.sqrt(2) * np.array([1., 1.]) * np.cos(self.Omega*t)\n",
    "        return np.array(vel_array)\n",
    "    "
   ]
  },
  {
   "cell_type": "code",
   "execution_count": 227,
   "id": "cdeea42a-7ff7-473e-ad64-b425839cbf30",
   "metadata": {},
   "outputs": [],
   "source": [
    "A = np.array(A, dtype = float)"
   ]
  },
  {
   "cell_type": "code",
   "execution_count": 228,
   "id": "b6f919c0-4247-4b4d-9d79-8b291f8419cc",
   "metadata": {},
   "outputs": [],
   "source": [
    "def lin_ode(t,x):\n",
    "    return A@x"
   ]
  },
  {
   "cell_type": "code",
   "execution_count": 229,
   "id": "564e9cd0-b0f2-44ae-b79a-53772248ff02",
   "metadata": {},
   "outputs": [],
   "source": [
    "def toint(t,x, model):\n",
    "    return model.dynamics(x,t)"
   ]
  },
  {
   "cell_type": "code",
   "execution_count": 230,
   "id": "2bc94518-8002-4e21-bc0c-71bd74b08e11",
   "metadata": {},
   "outputs": [],
   "source": [
    "tmax = 800\n",
    "\n",
    "teval = np.linspace(0, tmax, 16000)"
   ]
  },
  {
   "cell_type": "code",
   "execution_count": 231,
   "id": "74bf9245-fe1c-4e6c-ac02-9398fb227241",
   "metadata": {},
   "outputs": [],
   "source": [
    "## compute the initial guess for A\n",
    "v, w = np.linalg.eig(A)\n",
    "dt = teval[1] - teval[0]\n",
    "Diag_cont_init = np.diag(np.exp(v * dt))\n",
    "init_matrix = np.real(w@Diag_cont_init@np.linalg.inv(w))"
   ]
  },
  {
   "cell_type": "markdown",
   "id": "36efa2d1-c8f6-47d5-906b-09a97558e44f",
   "metadata": {},
   "source": [
    "## Analysis of low amplitude data"
   ]
  },
  {
   "cell_type": "code",
   "execution_count": 232,
   "id": "74008a94-b211-456c-974d-9ca7ab6c2841",
   "metadata": {},
   "outputs": [],
   "source": [
    "low_amplitude_set = {}"
   ]
  },
  {
   "cell_type": "code",
   "execution_count": 233,
   "id": "0af1400b-770c-4b8b-b27a-488282f0efbe",
   "metadata": {},
   "outputs": [],
   "source": [
    "ics_for_ddl = [[-0.12, 0.0013333], [0.125, 0.002], [-0.1115, 0.]]\n",
    "ics_for_ddl_valid = [[-0.11, -0.02]]\n",
    "ics_for_ddl_test = [[0.103, -0.02]]\n",
    "omm = 1.6\n",
    "model = Duffing_nonlinear( 0., omm)\n",
    "period = 2 *np.pi / omm\n",
    "converged = np.linspace(0, period, 100)\n",
    "low_amplitude_set['train_data'] = [solve_ivp(toint, \n",
    "                                [0, tmax],\n",
    "                                ic, t_eval = teval,\n",
    "                                args = (model,)).y for ic in ics_for_ddl]\n",
    "low_amplitude_set['validation_data'] = [solve_ivp(toint, \n",
    "                                [0, tmax],\n",
    "                                ic, t_eval = teval,\n",
    "                                args = (model,)).y for ic in ics_for_ddl_valid]\n",
    "low_amplitude_set['test_data'] = [solve_ivp(toint, \n",
    "                                [0, tmax],\n",
    "                                ic, t_eval = teval,\n",
    "                                args = (model,)).y for ic in ics_for_ddl_test]"
   ]
  },
  {
   "cell_type": "markdown",
   "id": "20c9bc59-bf2f-41e4-aafe-f82afdb19f73",
   "metadata": {},
   "source": [
    "### Analytic prediction"
   ]
  },
  {
   "cell_type": "code",
   "execution_count": 234,
   "id": "b0ecb19d-3b4e-4a93-ac57-000692832add",
   "metadata": {},
   "outputs": [],
   "source": [
    "from sklearn.preprocessing import PolynomialFeatures"
   ]
  },
  {
   "cell_type": "code",
   "execution_count": 235,
   "id": "6f1efb47-d0cb-4359-9bb3-7cc0e5777237",
   "metadata": {},
   "outputs": [],
   "source": [
    "def predict_linearization(x0, times):\n",
    "    u0v0 = np.array([transformations['gamma_1_phi1_phi2_numpy'](*x0),\n",
    "                     transformations['gamma_2_phi1_phi2_numpy'](*x0)])\n",
    "    tmax = times[-1]\n",
    "    sol = solve_ivp(lin_ode, \n",
    "                                [0, tmax],\n",
    "                                u0v0, t_eval = times)\n",
    "    return np.array([transformations['phi_1_gamma1_gamma2_numpy'](sol.y[0,:], sol.y[1,:]),\n",
    "             transformations['phi_2_gamma1_gamma2_numpy'](sol.y[0,:], sol.y[1,:])])"
   ]
  },
  {
   "cell_type": "code",
   "execution_count": 236,
   "id": "77f77870-4178-44d2-bccf-c1a734d4c533",
   "metadata": {},
   "outputs": [],
   "source": [
    "linearized = predict_linearization(ics_for_ddl_valid[0], teval)"
   ]
  },
  {
   "cell_type": "markdown",
   "id": "dc57fc9f-6939-42c0-9bb2-942c1888a774",
   "metadata": {},
   "source": [
    "### EDMD, DMD"
   ]
  },
  {
   "cell_type": "code",
   "execution_count": 237,
   "id": "5704c5e8-57cd-46a2-99b0-4fda4a787528",
   "metadata": {},
   "outputs": [],
   "source": [
    "from data_driven_linearization.dmd import dmd\n",
    "from data_driven_linearization.edmd import edmd\n",
    "\n"
   ]
  },
  {
   "cell_type": "code",
   "execution_count": 238,
   "id": "00f8a2a3-0d53-4108-a9f2-bc6243fad1a3",
   "metadata": {},
   "outputs": [],
   "source": [
    "\n",
    "plt.rcParams['text.usetex'] = True\n",
    "plt.rcParams.update({'font.size': 14,\"font.family\": \"serif\",})\n",
    "plt.rcParams.update({'text.latex.preamble':r\"\\usepackage{amsmath}\"})\n"
   ]
  },
  {
   "cell_type": "code",
   "execution_count": 239,
   "id": "119bd127-864e-46ef-ba21-a8fb4a9fca56",
   "metadata": {},
   "outputs": [],
   "source": [
    "deg = 5"
   ]
  },
  {
   "cell_type": "code",
   "execution_count": 240,
   "id": "34f92de7-92eb-4570-8a63-d430fbfb2743",
   "metadata": {},
   "outputs": [],
   "source": [
    "Dmd = dmd(low_amplitude_set['train_data'])\n",
    "Edmd = edmd(low_amplitude_set['train_data'], degree = deg)"
   ]
  },
  {
   "cell_type": "code",
   "execution_count": 241,
   "id": "4aa62577-bae9-4cc0-8ab1-04252e9609d4",
   "metadata": {},
   "outputs": [],
   "source": [
    "\n",
    "nonlin_features = PolynomialFeatures(degree = 5, \n",
    "                                     include_bias = False).fit_transform(low_amplitude_set['validation_data'][0].T)\n"
   ]
  },
  {
   "cell_type": "code",
   "execution_count": 242,
   "id": "1727697f-2525-4798-b98f-e1bccfd35b8f",
   "metadata": {},
   "outputs": [],
   "source": [
    "def iterate(x0, A, n):\n",
    "    iterates = [x0]\n",
    "    for i in range(n):\n",
    "        iterates.append(A@iterates[-1])\n",
    "    return iterates"
   ]
  },
  {
   "cell_type": "code",
   "execution_count": 243,
   "id": "8daeb617-5de6-440c-9442-78230299ec8a",
   "metadata": {},
   "outputs": [],
   "source": [
    "dmd_pred = np.array(iterate(ics_for_ddl_valid[0],\n",
    "                            Dmd.coef_, \n",
    "                            teval.shape[0] -1))"
   ]
  },
  {
   "cell_type": "code",
   "execution_count": 244,
   "id": "39cb1c3b-77d4-445c-b4a7-3fa8e640caa7",
   "metadata": {},
   "outputs": [],
   "source": [
    "edmd_pred = np.array(iterate(nonlin_features[0,:],\n",
    "                            Edmd.coef_, \n",
    "                            teval.shape[0] -1))"
   ]
  },
  {
   "cell_type": "code",
   "execution_count": 245,
   "id": "83ec8937-79c1-4bf0-99ba-9833fae25eca",
   "metadata": {},
   "outputs": [],
   "source": [
    "figure_1 = {}"
   ]
  },
  {
   "cell_type": "code",
   "execution_count": 246,
   "id": "afac3294-f4c4-4edf-be72-6dba1cc0d0ec",
   "metadata": {},
   "outputs": [],
   "source": [
    "figure_1['teval'] = teval\n",
    "figure_1['low_amplitude_set'] = low_amplitude_set['validation_data'][0]\n",
    "figure_1['low_amplitude_linearized'] = linearized\n"
   ]
  },
  {
   "cell_type": "code",
   "execution_count": 247,
   "id": "caa337ff-0e17-4794-8a01-7d316d6f8152",
   "metadata": {},
   "outputs": [],
   "source": [
    "figure_1['low_amplitude_dmd_pred'] = dmd_pred.T\n",
    "figure_1['low_amplitude_edmd_pred'] = edmd_pred.T"
   ]
  },
  {
   "cell_type": "markdown",
   "id": "848a1cfa-14f3-4281-a43d-5f049ddc8c37",
   "metadata": {},
   "source": [
    "### DDL"
   ]
  },
  {
   "cell_type": "markdown",
   "id": "4e1678c4-f286-4a63-bde2-c16b1d55d2e3",
   "metadata": {},
   "source": [
    "Start DDL from the DMD initial guess"
   ]
  },
  {
   "cell_type": "code",
   "execution_count": 248,
   "id": "fb0133b2-6424-4222-8c1c-5d6cdc561426",
   "metadata": {},
   "outputs": [],
   "source": [
    "from data_driven_linearization.linearization import DataDrivenLinearization\n",
    "from data_driven_linearization.differentiation_utils import differentiate_model_symbolic"
   ]
  },
  {
   "cell_type": "code",
   "execution_count": 249,
   "id": "bd062f75-1c7a-4e24-a635-bf3b77667e7e",
   "metadata": {},
   "outputs": [
    {
     "name": "stdout",
     "output_type": "stream",
     "text": [
      "Initial cost:  0.5067720664613555\n",
      "     message: `gtol` termination condition is satisfied.\n",
      "     success: True\n",
      "      status: 1\n",
      "         fun: [-3.722e-06 -3.275e-06 ... -7.083e-11 -9.133e-11]\n",
      "           x: [ 9.972e-01 -7.055e-02 ...  1.313e+01 -2.194e+01]\n",
      "        cost: 2.937036269784562e-07\n",
      "         jac: [[-1.218e-01  1.254e-02 ...  0.000e+00 -0.000e+00]\n",
      "               [-1.224e-01  3.921e-03 ...  0.000e+00 -0.000e+00]\n",
      "               ...\n",
      "               [ 0.000e+00 -0.000e+00 ...  0.000e+00 -0.000e+00]\n",
      "               [ 0.000e+00 -0.000e+00 ...  0.000e+00 -0.000e+00]]\n",
      "        grad: [ 3.909e-09 -5.800e-09 ... -6.902e-14 -1.186e-13]\n",
      "  optimality: 5.799968078288578e-09\n",
      " active_mask: [ 0.000e+00  0.000e+00 ...  0.000e+00  0.000e+00]\n",
      "        nfev: 38\n",
      "        njev: 32\n",
      "Final cost:  5.874072539569132e-07\n"
     ]
    }
   ],
   "source": [
    "model = {}\n",
    "d = DataDrivenLinearization(2, degree = 5)\n",
    "loss = d.fit(low_amplitude_set['train_data'], initial_matrix = Dmd.coef_, \n",
    "           alpha = 0., method = 'with_inverse',  method_optimization = 'trf', verbose = True)\n",
    "model['ddl'] = d\n",
    "inverse_transform, inverse_derivative, variables = differentiate_model_symbolic(d.poly, \n",
    "                                                                                d.inverse_transformation_model.coef_)\n",
    "\n",
    "transform, derivative, variables = differentiate_model_symbolic(d.poly, \n",
    "                                                                                        d.transformation_coefficients)\n",
    "\n",
    "\n",
    "inverse_transform_numpy = sy.lambdify([variables], inverse_transform, 'numpy')\n",
    "derivative_transform_numpy = sy.lambdify([variables], derivative, 'numpy')\n",
    "transform_numpy = sy.lambdify([variables], transform, 'numpy')\n",
    "inverse_derivative_transform_numpy = sy.lambdify([variables], inverse_derivative, 'numpy')\n",
    "v, w = np.linalg.eig(d.linear_model)\n",
    "dt = teval[1] - teval[0]\n",
    "Diag_cont = np.diag(np.log(v) / dt)\n",
    "Cont_non_diag = np.real(w@Diag_cont@np.linalg.inv(w))\n"
   ]
  },
  {
   "cell_type": "code",
   "execution_count": 250,
   "id": "46478e4b-55cb-4cc0-9b99-4059dea8f8dd",
   "metadata": {},
   "outputs": [],
   "source": [
    "valid_traj = low_amplitude_set['validation_data'][0]\n",
    "\n",
    "transformed_valid = d.transform(valid_traj)\n",
    "predicted_ddl = d.predict(valid_traj[:,0], valid_traj.shape[1]-1)\n",
    "predicted_ddl = np.array(predicted_ddl)\n",
    "predicted_ddl_trf = d.inverse_transform(np.array(predicted_ddl))"
   ]
  },
  {
   "cell_type": "code",
   "execution_count": 251,
   "id": "a215cb7a-0cbe-4ce6-bd90-dbdea5eace9a",
   "metadata": {},
   "outputs": [],
   "source": [
    "figure_1['low_amplitude_ddl_pred'] = predicted_ddl_trf\n",
    "figure_1['low_amplitude_ddl_model'] = d"
   ]
  },
  {
   "cell_type": "markdown",
   "id": "48a075fc-59a2-47bd-9e3a-4d044cf63798",
   "metadata": {},
   "source": [
    "## Analysis of larger amplitude data"
   ]
  },
  {
   "cell_type": "code",
   "execution_count": 252,
   "id": "2a3d6719-5b9b-46c3-b05f-10fe1ea8f53f",
   "metadata": {},
   "outputs": [],
   "source": [
    "large_amplitude_set = {}"
   ]
  },
  {
   "cell_type": "code",
   "execution_count": 253,
   "id": "79051a95-2863-4f15-8e68-a1de0b9efbea",
   "metadata": {},
   "outputs": [],
   "source": [
    "ics_for_ddl = [[-0.25, 0.0013333], [0.245, 0.002], [-0.25, 0.]]\n",
    "ics_for_ddl_valid = [[-0.22, -0.02]]\n",
    "ics_for_ddl_test = [[0.213, -0.02]]\n",
    "\n",
    "model = Duffing_nonlinear( 0., omm)\n",
    "period = 2 *np.pi / omm\n",
    "converged = np.linspace(0, period, 100)\n",
    "large_amplitude_set['train_data'] = [solve_ivp(toint, \n",
    "                                [0, tmax],\n",
    "                                ic, t_eval = teval,\n",
    "                                args = (model,)).y for ic in ics_for_ddl]\n",
    "large_amplitude_set['validation_data'] = [solve_ivp(toint, \n",
    "                                [0, tmax],\n",
    "                                ic, t_eval = teval,\n",
    "                                args = (model,)).y for ic in ics_for_ddl_valid]\n",
    "large_amplitude_set['test_data'] = [solve_ivp(toint, \n",
    "                                [0, tmax],\n",
    "                                ic, t_eval = teval,\n",
    "                                args = (model,)).y for ic in ics_for_ddl_test]"
   ]
  },
  {
   "cell_type": "code",
   "execution_count": 254,
   "id": "244a1e1b-62b1-40ea-bdd0-ac2e364adb8a",
   "metadata": {},
   "outputs": [],
   "source": [
    "linearized = predict_linearization(ics_for_ddl_valid[0], teval)"
   ]
  },
  {
   "cell_type": "code",
   "execution_count": 255,
   "id": "8c97a978-7483-4997-8c51-4208d1c573d8",
   "metadata": {},
   "outputs": [],
   "source": [
    "figure_1['large_amplitude_set'] = large_amplitude_set['validation_data'][0]\n",
    "figure_1['large_amplitude_linearized'] = linearized"
   ]
  },
  {
   "cell_type": "code",
   "execution_count": 256,
   "id": "e1828dfb-343f-4541-957e-fd9cbafe8f37",
   "metadata": {},
   "outputs": [],
   "source": [
    "Dmd = dmd(large_amplitude_set['train_data'])\n",
    "Edmd = edmd(large_amplitude_set['train_data'], degree = deg)"
   ]
  },
  {
   "cell_type": "code",
   "execution_count": 257,
   "id": "227594fb-43d4-41de-97a1-72139cce89d7",
   "metadata": {},
   "outputs": [],
   "source": [
    "\n",
    "nonlin_features = PolynomialFeatures(degree = 5, \n",
    "                                     include_bias = False).fit_transform(large_amplitude_set['validation_data'][0].T)\n"
   ]
  },
  {
   "cell_type": "code",
   "execution_count": 258,
   "id": "df61e371-1e24-4dcd-954b-b0eb64bf9d0e",
   "metadata": {},
   "outputs": [],
   "source": [
    "dmd_pred = np.array(iterate(ics_for_ddl_valid[0],\n",
    "                            Dmd.coef_, \n",
    "                            teval.shape[0] -1))"
   ]
  },
  {
   "cell_type": "code",
   "execution_count": 259,
   "id": "4128cb85-8844-4e01-a7db-8f6127278b37",
   "metadata": {},
   "outputs": [],
   "source": [
    "edmd_pred = np.array(iterate(nonlin_features[0,:],\n",
    "                            Edmd.coef_, \n",
    "                            teval.shape[0] -1))"
   ]
  },
  {
   "cell_type": "code",
   "execution_count": 260,
   "id": "61d9c839-b07c-49b0-89d3-4129cce37324",
   "metadata": {},
   "outputs": [],
   "source": [
    "figure_1['large_amplitude_dmd_pred'] = dmd_pred.T\n",
    "figure_1['large_amplitude_edmd_pred'] = edmd_pred.T"
   ]
  },
  {
   "cell_type": "markdown",
   "id": "96335fd0-80e6-49e1-9820-a7ba7e08cbbb",
   "metadata": {},
   "source": [
    "### DDL"
   ]
  },
  {
   "cell_type": "code",
   "execution_count": 261,
   "id": "068c5190-ffe0-4f6b-9599-8d4a3e014f1a",
   "metadata": {},
   "outputs": [
    {
     "name": "stdout",
     "output_type": "stream",
     "text": [
      "Initial cost:  92.74745981624993\n",
      "     message: `gtol` termination condition is satisfied.\n",
      "     success: True\n",
      "      status: 1\n",
      "         fun: [-2.616e-05 -1.803e-05 ...  5.191e-10  6.842e-10]\n",
      "           x: [ 9.972e-01 -7.008e-02 ...  2.350e-01 -1.642e+00]\n",
      "        cost: 1.768737353251448e-05\n",
      "         jac: [[-2.616e-01  2.777e-02 ...  0.000e+00 -0.000e+00]\n",
      "               [-2.628e-01  9.498e-03 ...  0.000e+00 -0.000e+00]\n",
      "               ...\n",
      "               [ 0.000e+00 -0.000e+00 ...  0.000e+00 -0.000e+00]\n",
      "               [ 0.000e+00 -0.000e+00 ...  0.000e+00 -0.000e+00]]\n",
      "        grad: [ 2.712e-09  5.698e-10 ... -5.693e-13 -9.597e-13]\n",
      "  optimality: 2.713356857356691e-09\n",
      " active_mask: [ 0.000e+00  0.000e+00 ...  0.000e+00  0.000e+00]\n",
      "        nfev: 51\n",
      "        njev: 45\n",
      "Final cost:  3.537474706502903e-05\n"
     ]
    }
   ],
   "source": [
    "model = {}\n",
    "d = DataDrivenLinearization(2, degree = 5)\n",
    "loss = d.fit(large_amplitude_set['train_data'], initial_matrix = Dmd.coef_, \n",
    "           alpha = 0., method = 'with_inverse',  method_optimization = 'trf', verbose = True)\n",
    "model['ddl'] = d\n",
    "inverse_transform, inverse_derivative, variables = differentiate_model_symbolic(d.poly, \n",
    "                                                                                d.inverse_transformation_model.coef_)\n",
    "\n",
    "transform, derivative, variables = differentiate_model_symbolic(d.poly,\n",
    "                                                                d.transformation_coefficients)\n",
    "\n",
    "\n",
    "inverse_transform_numpy = sy.lambdify([variables], inverse_transform, 'numpy')\n",
    "derivative_transform_numpy = sy.lambdify([variables], derivative, 'numpy')\n",
    "transform_numpy = sy.lambdify([variables], transform, 'numpy')\n",
    "inverse_derivative_transform_numpy = sy.lambdify([variables], inverse_derivative, 'numpy')\n",
    "v, w = np.linalg.eig(d.linear_model)\n",
    "dt = teval[1] - teval[0]\n",
    "Diag_cont = np.diag(np.log(v) / dt)\n",
    "Cont_non_diag = np.real(w@Diag_cont@np.linalg.inv(w))\n"
   ]
  },
  {
   "cell_type": "code",
   "execution_count": 262,
   "id": "7abc43c8-c376-4761-9ed9-36d3388fdd40",
   "metadata": {},
   "outputs": [],
   "source": [
    "figure_1['teval'] = teval\n"
   ]
  },
  {
   "cell_type": "code",
   "execution_count": 263,
   "id": "14fdf86c-e38f-4271-af00-cede4741b4f0",
   "metadata": {},
   "outputs": [],
   "source": [
    "valid_traj = large_amplitude_set['validation_data'][0]\n",
    "\n",
    "transformed_valid = d.transform(valid_traj)\n",
    "predicted_ddl = d.predict(valid_traj[:,0], valid_traj.shape[1]-1)\n",
    "predicted_ddl = np.array(predicted_ddl)\n",
    "predicted_ddl_trf = d.inverse_transform(np.array(predicted_ddl))"
   ]
  },
  {
   "cell_type": "code",
   "execution_count": 264,
   "id": "ca741c68-4169-4b11-8019-636c3c8e2c1e",
   "metadata": {},
   "outputs": [],
   "source": [
    "figure_1['large_amplitude_ddl_pred'] = predicted_ddl_trf\n",
    "figure_1['large_amplitude_ddl_model'] = d"
   ]
  },
  {
   "cell_type": "markdown",
   "id": "27020334-c74f-489a-b4fb-9149d2978325",
   "metadata": {},
   "source": [
    "## Comparison figure"
   ]
  },
  {
   "cell_type": "code",
   "execution_count": 280,
   "id": "c5ec6edd-f910-4915-b7a8-e5fa154987d5",
   "metadata": {},
   "outputs": [
    {
     "data": {
      "image/png": "[encoded data removed]",
      "text/plain": [
       "<Figure size 864x432 with 8 Axes>"
      ]
     },
     "metadata": {
      "needs_background": "light"
     },
     "output_type": "display_data"
    }
   ],
   "source": [
    "fig, axes = plt.subplots(ncols = 4, nrows = 2, figsize = (12,6))\n",
    "axes[0,0].plot(figure_1['teval'], figure_1['low_amplitude_set'][0,:],  '-',\n",
    "               linewidth = 1.5,  c=colors2[0], label = 'True trajectory')\n",
    "\n",
    "axes[0,0].plot(figure_1['teval'], figure_1['low_amplitude_linearized'][0,:], '--', \n",
    "               linewidth = 1.1, alpha = 1, c=colors2[1], label = 'Linearized trajectory')\n",
    "#axes[0,0].set_xlabel('Time')\n",
    "#axes[0,0].set_ylabel('Displacement')\n",
    "axes[0,0].set_title('Analytic')\n",
    "\n",
    "\n",
    "axes[0,1].plot(figure_1['teval'], figure_1['low_amplitude_set'][0,:],  '-',\n",
    "               linewidth = 1.5,  c=colors2[0])\n",
    "\n",
    "axes[0,1].plot(figure_1['teval'], figure_1['low_amplitude_dmd_pred'][0,:], '--', \n",
    "               linewidth = 1.1, alpha = 1, c=colors2[1])\n",
    "axes[0,1].set_title('DMD')\n",
    "\n",
    "\n",
    "axes[0,2].plot(figure_1['teval'], figure_1['low_amplitude_set'][0,:],  '-',\n",
    "               linewidth = 1.5,  c=colors2[0])\n",
    "\n",
    "axes[0,2].plot(figure_1['teval'], figure_1['low_amplitude_edmd_pred'][0,:], '--', \n",
    "               linewidth = 1.1, alpha = 1, c=colors2[1])\n",
    "axes[0,2].set_title('EDMD')\n",
    "\n",
    "\n",
    "axes[0,3].plot(figure_1['teval'], figure_1['low_amplitude_set'][0,:],  '-',\n",
    "               linewidth = 1.5,  c=colors2[0])\n",
    "\n",
    "axes[0,3].plot(figure_1['teval'], figure_1['low_amplitude_ddl_pred'][0,:], '--', \n",
    "               linewidth = 1.1, alpha = 1, c=colors2[1])\n",
    "axes[0,3].set_title('DDL')\n",
    "\n",
    "\n",
    "axes[1,0].plot(figure_1['teval'], figure_1['large_amplitude_set'][0,:],  '-',\n",
    "               linewidth = 1.5,  c=colors2[0], label = 'True trajectory')\n",
    "\n",
    "axes[1,0].plot(figure_1['teval'], figure_1['large_amplitude_linearized'][0,:], '--', \n",
    "               linewidth = 1.1, alpha = 1, c=colors2[1], label = 'Linearized trajectory')\n",
    "#axes[0,0].set_xlabel('Time')\n",
    "#axes[0,0].set_ylabel('Displacement')\n",
    "axes[1,0].set_title('Analytic')\n",
    "\n",
    "\n",
    "axes[1,1].plot(figure_1['teval'], figure_1['large_amplitude_set'][0,:],  '-',\n",
    "               linewidth = 1.5,  c=colors2[0])\n",
    "\n",
    "axes[1,1].plot(figure_1['teval'], figure_1['large_amplitude_dmd_pred'][0,:], '--', \n",
    "               linewidth = 1.1, alpha = 1, c=colors2[1])\n",
    "axes[1,1].set_title('DMD')\n",
    "\n",
    "\n",
    "axes[1,2].plot(figure_1['teval'], figure_1['large_amplitude_set'][0,:],  '-',\n",
    "               linewidth = 1.5,  c=colors2[0])\n",
    "\n",
    "axes[1,2].plot(figure_1['teval'], figure_1['large_amplitude_edmd_pred'][0,:], '--', \n",
    "               linewidth = 1.1, alpha = 1, c=colors2[1])\n",
    "axes[1,2].set_title('EDMD')\n",
    "\n",
    "\n",
    "axes[1,3].plot(figure_1['teval'], figure_1['large_amplitude_set'][0,:],  '-',\n",
    "               linewidth = 1.5,  c=colors2[0])\n",
    "\n",
    "axes[1,3].plot(figure_1['teval'], figure_1['large_amplitude_ddl_pred'][0,:], '--', \n",
    "               linewidth = 1.1, alpha = 1, c=colors2[1])\n",
    "axes[1,3].set_title('DDL')\n",
    "\n",
    "\n",
    "for i in range(4):\n",
    "    axes[0,i].set_xlim(200, 220)\n",
    "    axes[0,i].set_ylim(-0.045, 0.045)\n",
    "    axes[1,i].set_xlim(200, 220)\n",
    "    axes[1,i].set_ylim(-0.08, 0.08)\n",
    "\n",
    "axes[0,0].legend(loc = 'upper right', fontsize = 10)\n",
    "fig.tight_layout()\n",
    "axes[0,0].set_ylabel('Displacement')\n",
    "axes[1,0].set_ylabel('Displacement')\n",
    "\n",
    "\n",
    "for i in range(4):\n",
    "    axes[1,i].set_xlabel('Time')\n",
    "    \n",
    "    \n",
    "    \n",
    "labels = ['(a)', '(b)', '(c)', '(d)', '(e)', '(f)', '(g)', '(h)']\n",
    "for a,l in zip(axes.ravel(), labels):\n",
    "    a.text(0, 1.03, l,transform=a.transAxes)\n",
    "#plt.savefig('figure5.pdf', bbox_inches='tight')"
   ]
  },
  {
   "cell_type": "code",
   "execution_count": 309,
   "id": "70103394-de5b-4a9d-b627-79c9c9faeff8",
   "metadata": {},
   "outputs": [
    {
     "data": {
      "text/plain": [
       "['saved_models/figure_5.data']"
      ]
     },
     "execution_count": 309,
     "metadata": {},
     "output_type": "execute_result"
    }
   ],
   "source": [
    "dump(figure_1, 'saved_models/figure_5.data')"
   ]
  },
  {
   "cell_type": "markdown",
   "id": "cdf2a8a9-d611-4dd6-ad29-c08b12e40188",
   "metadata": {
    "tags": []
   },
   "source": [
    "## Forced response curves"
   ]
  },
  {
   "cell_type": "code",
   "execution_count": 281,
   "id": "bbac8a13-4d3d-4d9e-83a5-a243e8324deb",
   "metadata": {},
   "outputs": [],
   "source": [
    "\n",
    "large_amplitude_ddl = d"
   ]
  },
  {
   "cell_type": "code",
   "execution_count": 282,
   "id": "90be0421-0a8f-4e89-b786-18d3d353635c",
   "metadata": {},
   "outputs": [],
   "source": [
    "inverse_transform, inverse_derivative, variables = differentiate_model_symbolic(d.poly,\n",
    "                                                                                d.inverse_transformation_model.coef_)\n",
    "\n",
    "transform, derivative, variables = differentiate_model_symbolic(d.poly,\n",
    "                                                                d.transformation_coefficients)"
   ]
  },
  {
   "cell_type": "markdown",
   "id": "a029ba25-770a-4c1b-ab51-a2017425cd61",
   "metadata": {},
   "source": [
    "Generate the transformations as strings to better interface with COCO  https://sourceforge.net/p/cocotools/wiki/Home/"
   ]
  },
  {
   "cell_type": "code",
   "execution_count": 283,
   "id": "d1dcdc97-6a5b-4da1-97fe-435ab2aec36d",
   "metadata": {},
   "outputs": [
    {
     "data": {
      "text/plain": [
       "'-1.592906369052*u.^5 - 1.8515064772555*u.^4*v + 0.428650964933765*u.^4 - 2.74966696890522*u.^3*v.^2 + 0.689054570038771*u.^3*v + 0.493513135716733*u.^3 - 2.95257874448554*u.^2*v.^3 + 0.931999661832654*u.^2*v.^2 - 1.4373743712398*u.^2*v + 0.283045637429705*u.^2 - 1.38308249378592*u*v.^4 + 0.722201881833066*u*v.^3 + 0.38975444041557*u*v.^2 + 0.0063369135879096*u*v + 1.0*u - 1.16224553452808*v.^5 + 0.515363536088653*v.^4 - 1.45393935844037*v.^3 + 0.579686918910643*v.^2'"
      ]
     },
     "execution_count": 283,
     "metadata": {},
     "output_type": "execute_result"
    }
   ],
   "source": [
    "str(inverse_transform[0]).replace('**', '.^').replace('x_0', 'u').replace('x_1','v')"
   ]
  },
  {
   "cell_type": "code",
   "execution_count": 284,
   "id": "e06e9696-e0c2-45f3-9611-fad7e0d65fe4",
   "metadata": {},
   "outputs": [
    {
     "data": {
      "text/plain": [
       "'1.59727808679318*u.^5 - 2.00050776005625*u.^4*v - 0.838987055231041*u.^4 + 1.70516661697777*u.^3*v.^2 - 0.245374062643042*u.^3*v + 1.42669804491312*u.^3 - 3.45128742785702*u.^2*v.^3 - 0.0227269547938732*u.^2*v.^2 + 0.408451615796731*u.^2*v + 0.00617077595978708*u.^2 + 0.234955787178839*u*v.^4 - 0.185369059220207*u*v.^3 + 1.45201526167485*u*v.^2 - 0.585564457512424*u*v - 1.64230858446897*v.^5 + 0.823051206440916*v.^4 + 0.13325672627409*v.^3 + 0.00305916327741244*v.^2 + 1.0*v'"
      ]
     },
     "execution_count": 284,
     "metadata": {},
     "output_type": "execute_result"
    }
   ],
   "source": [
    "str(inverse_transform[1]).replace('**', '.^').replace('x_0', 'u').replace('x_1','v')"
   ]
  },
  {
   "cell_type": "code",
   "execution_count": 285,
   "id": "3d6ac87b-83ad-4222-a86f-dd22a5c6c6dc",
   "metadata": {},
   "outputs": [
    {
     "data": {
      "text/plain": [
       "'-0.165252824846143*x.^5 - 0.515424203848289*x.^4*y + 0.19895199602877*x.^4 - 0.644742797053383*x.^3*y.^2 + 0.22190111412321*x.^3*y - 0.325788741384679*x.^3 - 1.19357961566932*x.^2*y.^3 - 0.0319725579590698*x.^2*y.^2 + 1.4375723607494*x.^2*y - 0.283805568822804*x.^2 - 0.287963203090662*x*y.^4 + 1.00540941006153*x*y.^3 - 0.733989306309077*x*y.^2 - 0.00647196743356581*x*y + 1.0*x - 1.02520391766975*y.^5 + 0.156141558272691*y.^4 + 1.46042013981032*y.^3 - 0.580132948790911*y.^2'"
      ]
     },
     "execution_count": 285,
     "metadata": {},
     "output_type": "execute_result"
    }
   ],
   "source": [
    "str(transform[0]).replace('**', '.^').replace('x_0', 'x').replace('x_1','y')"
   ]
  },
  {
   "cell_type": "code",
   "execution_count": 286,
   "id": "b8890d8d-e95a-4ba9-9214-90d98424b02f",
   "metadata": {},
   "outputs": [
    {
     "data": {
      "text/plain": [
       "'-0.263161297413285*x.^5 - 0.154041030928331*x.^4*y + 1.1641794039297*x.^4 + 0.938599804549709*x.^3*y.^2 + 0.02779394009192*x.^3*y - 1.41979400586777*x.^3 - 0.849702642045592*x.^2*y.^3 + 1.26032374464812*x.^2*y.^2 - 0.225073687449878*x.^2*y - 0.00535448318573616*x.^2 + 1.24770906425916*x*y.^4 - 0.339515133557604*x*y.^3 - 1.4538801881101*x*y.^2 + 0.583098510325567*x*y - 0.498033650114165*y.^5 + 0.910281220969915*y.^4 - 0.468673842703697*y.^3 - 0.00378755419045091*y.^2 + 1.0*y'"
      ]
     },
     "execution_count": 286,
     "metadata": {},
     "output_type": "execute_result"
    }
   ],
   "source": [
    "str(transform[1]).replace('**', '.^').replace('x_0', 'x').replace('x_1','y')"
   ]
  },
  {
   "cell_type": "code",
   "execution_count": 287,
   "id": "1a4a24e9-f81f-4c8d-9581-df8818b297e2",
   "metadata": {},
   "outputs": [],
   "source": [
    "from scipy.io import loadmat"
   ]
  },
  {
   "cell_type": "code",
   "execution_count": 288,
   "id": "02550edb-2cc0-4d68-947f-6446f1236a56",
   "metadata": {},
   "outputs": [],
   "source": [
    "forced_response_data = loadmat('data/numeric_forced_response_physical.mat')\n"
   ]
  },
  {
   "cell_type": "code",
   "execution_count": 289,
   "id": "4f0246fb-10a4-4cca-92a8-6299511f1c3a",
   "metadata": {},
   "outputs": [],
   "source": [
    "forced_response_data_analytic = loadmat('data/analytic_forced_response_physical.mat')\n"
   ]
  },
  {
   "cell_type": "code",
   "execution_count": 290,
   "id": "c19cf57e-fd63-4b40-ad34-fea1d7abb73a",
   "metadata": {},
   "outputs": [],
   "source": [
    "forced_response_data_leading_order = loadmat('data/numeric_forced_response_leading_ord_physical.mat')"
   ]
  },
  {
   "cell_type": "code",
   "execution_count": 291,
   "id": "8b0c3ae1-f94d-4008-b56f-3c9439eda2ce",
   "metadata": {},
   "outputs": [],
   "source": [
    "max_amps_nonl = forced_response_data['max_amps']\n",
    "max_amps_lin = forced_response_data['max_amps_linear']\n",
    "max_amps_lin_leading_ord = forced_response_data_leading_order['max_amps_linear']\n"
   ]
  },
  {
   "cell_type": "code",
   "execution_count": 292,
   "id": "4acd9b52-0c22-4cbd-a717-542db99b87e9",
   "metadata": {},
   "outputs": [],
   "source": [
    "max_amps_nonl_analytic = forced_response_data_analytic['max_amps']\n",
    "max_amps_lin_analytic = forced_response_data_analytic['max_amps_linear']\n"
   ]
  },
  {
   "cell_type": "code",
   "execution_count": 293,
   "id": "8ebbc909-b1c6-4c7e-8fec-6cd1c98fb77b",
   "metadata": {},
   "outputs": [],
   "source": [
    "def linode(t,x, Mat, amp, freq):\n",
    "    return Mat@x + amp * np.array([-0.006123800, 1.22474487]) * np.cos(freq * t) "
   ]
  },
  {
   "cell_type": "code",
   "execution_count": 296,
   "id": "305feca4-4009-4d90-a7d4-5c4a994f9d58",
   "metadata": {},
   "outputs": [],
   "source": [
    "v, w = np.linalg.eig(Dmd.coef_)\n",
    "dt = teval[1] - teval[0]\n",
    "Diag_cont_dmd = np.diag(np.log(v) / dt)\n",
    "Cont_non_diag_dmd = np.real(w@Diag_cont@np.linalg.inv(w))\n"
   ]
  },
  {
   "cell_type": "code",
   "execution_count": 297,
   "id": "12d52be3-5444-43d9-8e14-578f33f19ed4",
   "metadata": {},
   "outputs": [],
   "source": [
    "amplitudes = np.linspace(0.001, 0.006, 4)\n",
    "omegas = np.linspace(1.2, 1.6, 400)\n",
    "amplitudes = np.array([0.001,0.0022,0.0028,0.0035])\n",
    " "
   ]
  },
  {
   "cell_type": "code",
   "execution_count": 298,
   "id": "f96f4a96-9eea-4bc7-b6c1-218d53334bb3",
   "metadata": {},
   "outputs": [],
   "source": [
    "def generate_linear_response(ampl, omega):\n",
    "    period = 2*np.pi / omega\n",
    "    sol_tr = solve_ivp(linode, [0, 200*period], [0., 0.], args = (Cont_non_diag_dmd, ampl, omega,))\n",
    "    resolved = np.linspace(0, period, 100)\n",
    "    sol_full = solve_ivp(linode, [0, period], sol_tr.y[:,-1], t_eval=resolved,\n",
    "                         args = (Cont_non_diag_dmd, ampl, omega))\n",
    "    return sol_full\n",
    "    "
   ]
  },
  {
   "cell_type": "code",
   "execution_count": 299,
   "id": "cfc0cb0f-c3b0-4dc1-b408-32f029a4550d",
   "metadata": {},
   "outputs": [],
   "source": [
    "from tqdm import tqdm"
   ]
  },
  {
   "cell_type": "code",
   "execution_count": 300,
   "id": "bb8c56c0-374c-4dd5-add8-48831b7bc74d",
   "metadata": {},
   "outputs": [
    {
     "name": "stderr",
     "output_type": "stream",
     "text": [
      "100%|███████████████████████████████████████████████████████████████████████████████████████████████████████████████████████████████████████| 4/4 [03:02<00:00, 45.58s/it]\n"
     ]
    }
   ],
   "source": [
    "linear_resp = []\n",
    "for a in tqdm(amplitudes):\n",
    "    linresp_1 = []\n",
    "    for omm in omegas:\n",
    "        sol = generate_linear_response(a, omm)\n",
    "        linresp_1.append(np.abs(sol.y[0,:]).max())\n",
    "    linear_resp.append(linresp_1)\n",
    "linear_resp = np.array(linear_resp)"
   ]
  },
  {
   "cell_type": "code",
   "execution_count": 301,
   "id": "b995def2-ebba-4565-8eba-c6307283d7e7",
   "metadata": {},
   "outputs": [],
   "source": [
    "# colors2 = distinctipy.get_colors(10, n_attempts = 7000, rng = 1, colorblind_type='Tritanopia')\n",
    "# distinctipy.color_swatch(colors2)"
   ]
  },
  {
   "cell_type": "code",
   "execution_count": 302,
   "id": "fd85a502-9c7e-4897-8f7e-4a79dfa7450a",
   "metadata": {},
   "outputs": [],
   "source": [
    "freq = 2*np.pi/np.squeeze(max_amps_nonl[i,0])\n"
   ]
  },
  {
   "cell_type": "code",
   "execution_count": 306,
   "id": "b6bb1bb9-356a-4264-805a-0b441b459cc1",
   "metadata": {},
   "outputs": [
    {
     "data": {
      "image/png": "[encoded data removed]",
      "text/plain": [
       "<Figure size 576x648 with 4 Axes>"
      ]
     },
     "metadata": {
      "needs_background": "light"
     },
     "output_type": "display_data"
    }
   ],
   "source": [
    "fig = plt.figure(figsize = (8,9))\n",
    "ax = fig.add_subplot(221)\n",
    "ax2 = fig.add_subplot(222)\n",
    "ax3 = fig.add_subplot(223)\n",
    "ax4 = fig.add_subplot(224)\n",
    "\n",
    "ax.set_xlim(1.3, 1.5)\n",
    "\n",
    "ax2.set_xlim(1.3, 1.5)\n",
    "ax3.set_xlim(1.3, 1.5)\n",
    "ax4.set_xlim(1.3, 1.5)\n",
    "\n",
    "ax.set_ylim(0, 0.35)\n",
    "ax2.set_ylim(0, 0.35)\n",
    "ax3.set_ylim(0, 0.35)\n",
    "ax4.set_ylim(0, 0.35)\n",
    "\n",
    "for i in range(4):\n",
    "    freq = 2*np.pi/np.squeeze(max_amps_nonl[i,0])\n",
    "\n",
    "    amp = np.squeeze(max_amps_nonl[i,1])\n",
    "    stab = np.squeeze(max_amps_nonl[i,2])\n",
    "\n",
    "    freq_stab = np.copy(freq)\n",
    "    amp_stab = np.copy(amp)\n",
    "    freq_stab[stab==0] = np.nan\n",
    "    amp_stab[stab==0] = np.nan\n",
    "    if i < 3:\n",
    "        freq_leading_ord = 2*np.pi/np.squeeze(max_amps_lin_leading_ord[i,0])\n",
    "        amp_leading_ord = np.squeeze(max_amps_lin_leading_ord[i,1])\n",
    "    \n",
    "    \n",
    "    if i == 0:\n",
    "        ax.plot(freq_stab, amp_stab, 'o',markersize = 2.5, c=colors2[0], label = 'Forced response (stable)')\n",
    "        ax.plot(freq[stab==0], amp[stab==0], '--',linewidth = 1.5, c=colors2[0],  label = 'Forced response (unstable)')\n",
    "        ax2.plot(freq_stab, amp_stab, 'o',markersize = 2.5, c=colors2[0], )\n",
    "        ax2.plot(freq[stab==0], amp[stab==0], '--',linewidth = 1.5, c=colors2[0],)\n",
    "        ax3.plot(freq_stab, amp_stab, 'o',markersize = 2.5, c=colors2[0], )\n",
    "        ax3.plot(freq[stab==0], amp[stab==0], '--',linewidth = 1.5, c=colors2[0],)\n",
    "        ax4.plot(freq_stab, amp_stab, 'o',markersize = 2.5, c=colors2[0], )\n",
    "        ax4.plot(freq[stab==0], amp[stab==0], '--',linewidth = 1.5, c=colors2[0],)\n",
    "    elif i < 3:\n",
    "        ax.plot(freq_stab, amp_stab, 'o',markersize = 2.5, c=colors2[0],)\n",
    "        ax.plot(freq[stab==0], amp[stab==0], '--',linewidth = 1.5, c=colors2[0], )\n",
    "        ax2.plot(freq_stab, amp_stab, 'o',markersize = 2.5, c=colors2[0],)\n",
    "        ax2.plot(freq[stab==0], amp[stab==0], '--',linewidth = 1.5, c=colors2[0],)\n",
    "        ax3.plot(freq_stab, amp_stab, 'o',markersize = 2.5, c=colors2[0],)\n",
    "        ax3.plot(freq[stab==0], amp[stab==0], '--',linewidth = 1.5, c=colors2[0],)\n",
    "        ax4.plot(freq_stab, amp_stab, 'o',markersize = 2.5, c=colors2[0],)\n",
    "        ax4.plot(freq[stab==0], amp[stab==0], '--',linewidth = 1.5, c=colors2[0],)\n",
    "    \n",
    "    \n",
    "    \n",
    "    \n",
    "    freq = 2*np.pi/np.squeeze(max_amps_lin[i,0])\n",
    "    amp = np.squeeze(max_amps_lin[i,1])\n",
    "    stab = np.squeeze(max_amps_lin[i,2])\n",
    "    freq_stab = np.copy(freq)\n",
    "    amp_stab = np.copy(amp)\n",
    "    if i < 3:\n",
    "        freq_stab[stab==0] = np.nan\n",
    "        amp_stab[stab==0] = np.nan\n",
    "    if i == 0:\n",
    "        ax4.plot(freq_stab, amp_stab, '-',linewidth = 1.5, c=colors2[1],label = 'Forced response from DDL')\n",
    "        ax.plot(freq_leading_ord, amp_leading_ord, '-',linewidth = 1.1, c=colors2[3],label = 'Forced response from DDL')\n",
    "\n",
    "    else:\n",
    "        ax4.plot(freq_stab, amp_stab, '-',linewidth = 1.5, c=colors2[1],)\n",
    "        ax.plot(freq_leading_ord, amp_leading_ord, '-',linewidth = 1.1, c=colors2[3])\n",
    "\n",
    "    ax4.plot(freq[stab==0], amp[stab==0], '--',linewidth = 1, c=colors2[1],)\n",
    "    \n",
    "    \n",
    "    \n",
    "    \n",
    "    freq = 2*np.pi/np.squeeze(max_amps_lin_analytic[i,0])\n",
    "    amp = np.squeeze(max_amps_lin_analytic[i,1])\n",
    "    stab = np.squeeze(max_amps_lin_analytic[i,2])\n",
    "    freq_stab = np.copy(freq)\n",
    "    amp_stab = np.copy(amp)\n",
    "    if i < 3:\n",
    "        freq_stab[stab==0] = np.nan\n",
    "        amp_stab[stab==0] = np.nan\n",
    "    if i == 0:\n",
    "        ax3.plot(freq_stab, amp_stab, '-',linewidth = 1.5, c=colors2[2],label = 'Forced response from \\n analytic linearization')\n",
    "    else:\n",
    "#    elif i < 3:\n",
    "        ax3.plot(freq_stab, amp_stab, '-',linewidth = 1.5, c=colors2[2],)\n",
    "        ax3.plot(freq[stab==0], amp[stab==0], '--',linewidth = 1, c=colors2[2],)\n",
    "ax3.set_xlim(1.3, 1.5)\n",
    "ax2.plot(omegas, linear_resp[0,:], '-', linewidth = 1.5, c=colors2[4], label = 'Forced response from DMD')\n",
    "\n",
    "\n",
    "\n",
    "#ax3.plot(omegas, max_amps_lin_leading_ord[0,:], '-', linewidth = 1, c=colors2[4], label = 'Forced response from DMD')\n",
    "\n",
    "for i in range(1,3):\n",
    "    ax2.plot(omegas, linear_resp[i,:], '-', linewidth = 1.5, c=colors2[4])\n",
    "\n",
    "\n",
    "\n",
    "ax.legend(fontsize=10)\n",
    "ax2.legend(fontsize =10)\n",
    "ax3.legend(fontsize =10)\n",
    "ax4.legend(fontsize =10)\n",
    "\n",
    "\n",
    "ax.set_xlabel('Frequency')\n",
    "ax2.set_xlabel('Frequency')\n",
    "ax3.set_xlabel('Frequency')\n",
    "ax4.set_xlabel('Frequency')\n",
    "\n",
    "ax.set_ylabel('Displacement')\n",
    "ax3.set_ylabel('Displacement')\n",
    "\n",
    "labels = ['(a)', '(b)', '(c)', '(d)']\n",
    "for a,l in zip([ax, ax2, ax3, ax4], labels):\n",
    "    a.text(0, 1.03, l, transform=a.transAxes)\n",
    "\n",
    "ax4.text(1.41, 0.26,r\"Forcing term: \\\\$\\varepsilon(\\mathbf{I} + D\\boldsymbol{\\ell})^{-1}\\hat{\\mathbf{F}}(0,t)$\", fontsize = 12, ha = 'left', va = 'top')\n",
    "ax3.text(1.41, 0.26,r\"Forcing term: \\\\$\\varepsilon(\\mathbf{I} + D\\boldsymbol{\\ell})^{-1}\\hat{\\mathbf{F}}(0,t)$\", fontsize = 12, ha = 'left', va = 'top')\n",
    "\n",
    "ax.text(1.425, 0.26,\"Forcing term: \\n $\\\\centering{\\\\varepsilon\\\\hat{\\mathbf{F}}(0,t)}$\", fontsize = 12, ha = 'left', va = 'top')\n",
    "ax2.text(1.425, 0.26,\"Forcing term: \\n $\\\\centering{\\\\varepsilon\\\\hat{\\mathbf{F}}(0,t)}$\", fontsize = 12, ha = 'left', va = 'top')\n",
    "ax.set_title('Approximate DDL')\n",
    "ax2.set_title('DMD')\n",
    "ax3.set_title('Analytic linearization')\n",
    "ax4.set_title('Full DDL')\n",
    "\n",
    "\n",
    "\n",
    "\n",
    "fig.tight_layout()\n",
    "#plt.savefig('figure_12.pdf', bbox_inches='tight')"
   ]
  },
  {
   "cell_type": "code",
   "execution_count": 307,
   "id": "1b0c78e2-31d0-4884-8d92-996ac30b74a2",
   "metadata": {},
   "outputs": [
    {
     "data": {
      "image/png": "[encoded data removed]",
      "text/plain": [
       "<Figure size 864x324 with 3 Axes>"
      ]
     },
     "metadata": {
      "needs_background": "light"
     },
     "output_type": "display_data"
    }
   ],
   "source": [
    "fig = plt.figure(figsize = (12,4.5))\n",
    "ax = fig.add_subplot(131)\n",
    "ax2 = fig.add_subplot(132)\n",
    "ax3 = fig.add_subplot(133)\n",
    "\n",
    "for i in range(4):\n",
    "    freq = 2*np.pi/np.squeeze(max_amps_nonl[i,0])\n",
    "    amp = np.squeeze(max_amps_nonl[i,1])\n",
    "    stab = np.squeeze(max_amps_nonl[i,2])\n",
    "    freq_stab = np.copy(freq)\n",
    "    amp_stab = np.copy(amp)\n",
    "    freq_stab[stab==0] = np.nan\n",
    "    amp_stab[stab==0] = np.nan\n",
    "    if i < 3:\n",
    "        freq_leading_ord = 2*np.pi/np.squeeze(max_amps_lin_leading_ord[i,0])\n",
    "        amp_leading_ord = np.squeeze(max_amps_lin_leading_ord[i,1])\n",
    "    \n",
    "    \n",
    "    if i == 0:\n",
    "        ax.plot(freq_stab, amp_stab, 'o',markersize = 2.5, c=colors2[0], label = 'Forced response (stable)')\n",
    "        ax.plot(freq[stab==0], amp[stab==0], '--',linewidth = 1.5, c=colors2[0],  label = 'Forced response (unstable)')\n",
    "        ax2.plot(freq_stab, amp_stab, 'o',markersize = 2.5, c=colors2[0], )\n",
    "        ax2.plot(freq[stab==0], amp[stab==0], '--',linewidth = 1.5, c=colors2[0],)\n",
    "        ax3.plot(freq_stab, amp_stab, 'o',markersize = 2.5, c=colors2[0], )\n",
    "        ax3.plot(freq[stab==0], amp[stab==0], '--',linewidth = 1.5, c=colors2[0],)\n",
    "    elif i < 3:\n",
    "        ax.plot(freq_stab, amp_stab, 'o',markersize = 2.5, c=colors2[0],)\n",
    "        ax.plot(freq[stab==0], amp[stab==0], '--',linewidth = 1.5, c=colors2[0], )\n",
    "        ax2.plot(freq_stab, amp_stab, 'o',markersize = 2.5, c=colors2[0],)\n",
    "        ax2.plot(freq[stab==0], amp[stab==0], '--',linewidth = 1.5, c=colors2[0],)\n",
    "        ax3.plot(freq_stab, amp_stab, 'o',markersize = 2.5, c=colors2[0],)\n",
    "        ax3.plot(freq[stab==0], amp[stab==0], '--',linewidth = 1.5, c=colors2[0],)\n",
    "    \n",
    "    \n",
    "    \n",
    "    \n",
    "    freq = 2*np.pi/np.squeeze(max_amps_lin[i,0])\n",
    "    amp = np.squeeze(max_amps_lin[i,1])\n",
    "    stab = np.squeeze(max_amps_lin[i,2])\n",
    "    freq_stab = np.copy(freq)\n",
    "    amp_stab = np.copy(amp)\n",
    "    freq_stab[stab==0] = np.nan\n",
    "    amp_stab[stab==0] = np.nan\n",
    "    if i == 0:\n",
    "        ax2.plot(freq_stab, amp_stab, '-',linewidth = 1.5, c=colors2[1],label = 'Forced response from DDL')\n",
    "    else:\n",
    "        ax2.plot(freq_stab, amp_stab, '-',linewidth = 1.5, c=colors2[1],)\n",
    "\n",
    "\n",
    "    ax2.plot(freq[stab==0], amp[stab==0], '--',linewidth = 1, c=colors2[1],)\n",
    "    \n",
    "    \n",
    "    \n",
    "    \n",
    "    freq = 2*np.pi/np.squeeze(max_amps_lin_analytic[i,0])\n",
    "    amp = np.squeeze(max_amps_lin_analytic[i,1])\n",
    "    stab = np.squeeze(max_amps_lin_analytic[i,2])\n",
    "    freq_stab = np.copy(freq)\n",
    "    amp_stab = np.copy(amp)\n",
    "    freq_stab[stab==0] = np.nan\n",
    "    amp_stab[stab==0] = np.nan\n",
    "    if i == 0:\n",
    "        ax.plot(freq_stab, amp_stab, '-',linewidth = 1.5, c=colors2[3],label = 'Forced response from \\n analytic linearization')\n",
    "    else:\n",
    "#    elif i < 3:\n",
    "        ax.plot(freq_stab, amp_stab, '-',linewidth = 1.5, c=colors2[3],)\n",
    "        ax.plot(freq[stab==0], amp[stab==0], '--',linewidth = 1, c=colors2[3],)\n",
    "ax3.set_xlim(1.3, 1.5)\n",
    "ax3.plot(omegas, linear_resp[0,:], '-', linewidth = 1.5, c=colors2[4], label = 'Forced response from DMD')\n",
    "\n",
    "\n",
    "\n",
    "#ax3.plot(omegas, max_amps_lin_leading_ord[0,:], '-', linewidth = 1, c=colors2[4], label = 'Forced response from DMD')\n",
    "\n",
    "for i in range(1,3):\n",
    "    ax3.plot(omegas, linear_resp[i,:], '-', linewidth = 1.5, c=colors2[4])\n",
    "\n",
    "\n",
    "ax.set_xlim(1.3, 1.5)\n",
    "\n",
    "ax2.set_xlim(1.3, 1.5)\n",
    "ax3.set_xlim(1.3, 1.5)\n",
    "\n",
    "ax.set_ylim(0, 0.35)\n",
    "ax2.set_ylim(0, 0.35)\n",
    "ax3.set_ylim(0, 0.35)\n",
    "\n",
    "ax.legend(fontsize=10)\n",
    "ax2.legend(fontsize =10)\n",
    "ax3.legend(fontsize =10)\n",
    "\n",
    "\n",
    "ax.set_xlabel('Frequency')\n",
    "ax2.set_xlabel('Frequency')\n",
    "ax3.set_xlabel('Frequency')\n",
    "\n",
    "ax.set_ylabel('Displacement')\n",
    "\n",
    "labels = ['(a)', '(b)', '(c)']\n",
    "for a,l in zip([ax, ax2, ax3], labels):\n",
    "    a.text(0, 1.03, l, transform=a.transAxes)\n",
    "\n",
    "\n",
    "ax3.set_title('DMD')\n",
    "ax.set_title('Analytic linearization')\n",
    "ax2.set_title('DDL')\n",
    "\n",
    "\n",
    "\n",
    "\n",
    "fig.tight_layout()\n",
    "#plt.savefig('figure6.pdf', bbox_inches='tight')"
   ]
  }
 ],
 "metadata": {
  "kernelspec": {
   "display_name": "Python 3 (ipykernel)",
   "language": "python",
   "name": "python3"
  },
  "language_info": {
   "codemirror_mode": {
    "name": "ipython",
    "version": 3
   },
   "file_extension": ".py",
   "mimetype": "text/x-python",
   "name": "python",
   "nbconvert_exporter": "python",
   "pygments_lexer": "ipython3",
   "version": "3.8.8"
  }
 },
 "nbformat": 4,
 "nbformat_minor": 5
}
